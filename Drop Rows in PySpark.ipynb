{
 "cells": [
  {
   "cell_type": "markdown",
   "id": "5c8d27e1",
   "metadata": {},
   "source": [
    "# How to drop rows in PySpark?\n",
    "###  Drop rows with condition in pyspark are accomplished by dropping –  \n",
    "###  Rows having null values, dropping duplicate rows and dropping rows by specific conditions in a where clause .etc\n",
    "#####   Drop rows having NA or missing values \n",
    "#####   Drop rows with Null values using- where condition\n",
    "#####   Drop duplicate rows in pyspark\n",
    "#####   Drop Duplicate rows by keeping the first occurrence \n",
    "#####   Drop duplicate rows by keeping the last occurrence \n",
    "#####   Drop rows with conditions using where clause\n",
    "#####  Drop duplicate rows by a specific column\n"
   ]
  },
  {
   "cell_type": "code",
   "execution_count": 4,
   "id": "95f01164",
   "metadata": {},
   "outputs": [],
   "source": [
    "import findspark\n",
    "findspark.init()\n",
    "import pyspark\n",
    "from pyspark.sql import SparkSession\n",
    "from pyspark import SparkContext, SparkConf\n",
    "conf = pyspark.SparkConf().setAppName(\"Drop Rows in Pyspark\").setMaster(\"local\")\n",
    "from pyspark.sql import SQLContext\n",
    "sc = pyspark.SparkContext(conf=conf)\n",
    "spark = SparkSession(sc)\n",
    "sql_c = SQLContext(sc)"
   ]
  },
  {
   "cell_type": "code",
   "execution_count": 5,
   "id": "d6a9f679",
   "metadata": {},
   "outputs": [],
   "source": [
    "df = sql_c.read.csv('Concrete_Data.csv', header=True)"
   ]
  },
  {
   "cell_type": "code",
   "execution_count": 6,
   "id": "760ada12",
   "metadata": {},
   "outputs": [
    {
     "name": "stdout",
     "output_type": "stream",
     "text": [
      "+------+------+-------+------+----------------+-------+------+----+------+\n",
      "|Cement| Blast|Fly Ash| Water|Superplasticizer|     CA|    FA| Age|   CMS|\n",
      "+------+------+-------+------+----------------+-------+------+----+------+\n",
      "|540.0 |  0.0 |   0.0 |162.0 |            2.5 |1040.0 |676.0 | 28 |79.99 |\n",
      "|540.0 |  0.0 |   0.0 |162.0 |            2.5 |1055.0 |676.0 | 28 |61.89 |\n",
      "|332.5 |142.5 |   0.0 |228.0 |            0.0 | 932.0 |594.0 |270 |40.27 |\n",
      "|332.5 |142.5 |   0.0 |228.0 |            0.0 | 932.0 |594.0 |365 |41.05 |\n",
      "+------+------+-------+------+----------------+-------+------+----+------+\n",
      "only showing top 4 rows\n",
      "\n"
     ]
    }
   ],
   "source": [
    "df.show(4)"
   ]
  },
  {
   "cell_type": "code",
   "execution_count": 7,
   "id": "3902e1db",
   "metadata": {},
   "outputs": [],
   "source": [
    "### Drop rows with NA or missing values in pyspark\n",
    "df=df.dropna()\n"
   ]
  },
  {
   "cell_type": "code",
   "execution_count": 9,
   "id": "129af244",
   "metadata": {},
   "outputs": [],
   "source": [
    "# df.show()"
   ]
  },
  {
   "cell_type": "code",
   "execution_count": 11,
   "id": "a54fd0d3",
   "metadata": {},
   "outputs": [],
   "source": [
    "# Drop rows with NA or missing values\n",
    "# df.na.drop().show()"
   ]
  },
  {
   "cell_type": "code",
   "execution_count": 12,
   "id": "c8ae6c79",
   "metadata": {},
   "outputs": [
    {
     "name": "stdout",
     "output_type": "stream",
     "text": [
      "+------+-----+-------+------+----------------+-------+------+---+------+\n",
      "|Cement|Blast|Fly Ash| Water|Superplasticizer|     CA|    FA|Age|   CMS|\n",
      "+------+-----+-------+------+----------------+-------+------+---+------+\n",
      "|194.7 | 0.0 | 100.5 |165.6 |            7.5 |1006.4 |905.9 |56 |33.96 |\n",
      "|230.0 | 0.0 | 118.3 |195.5 |            4.6 |1029.4 |758.6 |28 |24.48 |\n",
      "|213.8 |98.1 |  24.5 |181.7 |            6.7 |1066.0 |785.5 | 3 |13.18 |\n",
      "|251.8 | 0.0 |  99.9 |146.1 |           12.4 |1006.0 |899.8 |56 |44.14 |\n",
      "|252.3 | 0.0 |  98.8 |146.3 |           14.2 | 987.8 |889.0 |14 |42.29 |\n",
      "+------+-----+-------+------+----------------+-------+------+---+------+\n",
      "only showing top 5 rows\n",
      "\n"
     ]
    }
   ],
   "source": [
    "# drop duplicate rows\n",
    "from pyspark.sql import Row\n",
    "df = df.dropDuplicates()\n",
    "df.show(5)\n"
   ]
  },
  {
   "cell_type": "code",
   "execution_count": 13,
   "id": "5e3e1beb",
   "metadata": {},
   "outputs": [
    {
     "name": "stdout",
     "output_type": "stream",
     "text": [
      "+------+------+-------+------+----------------+-------+------+---+------+\n",
      "|Cement| Blast|Fly Ash| Water|Superplasticizer|     CA|    FA|Age|   CMS|\n",
      "+------+------+-------+------+----------------+-------+------+---+------+\n",
      "|286.3 |200.9 |   0.0 |144.7 |           11.2 |1004.6 |803.7 | 3 |24.40 |\n",
      "|342.0 | 38.0 |   0.0 |228.0 |            0.0 | 932.0 |670.0 |90 |50.46 |\n",
      "|272.8 |105.1 |  81.8 |209.7 |            9.0 | 904.0 |679.7 |28 |37.17 |\n",
      "|148.5 |139.4 | 108.6 |192.7 |            6.1 | 892.4 |780.0 |28 |23.70 |\n",
      "|446.0 | 24.0 |  79.0 |162.0 |           11.6 | 967.0 |712.0 | 3 |25.02 |\n",
      "+------+------+-------+------+----------------+-------+------+---+------+\n",
      "only showing top 5 rows\n",
      "\n"
     ]
    }
   ],
   "source": [
    "# Drop duplicate rows by a specific column\n",
    "df.dropDuplicates((['Blast'])).show(5)"
   ]
  },
  {
   "cell_type": "code",
   "execution_count": 16,
   "id": "41a15b9c",
   "metadata": {},
   "outputs": [
    {
     "name": "stdout",
     "output_type": "stream",
     "text": [
      "+------+-----+-------+-----+----------------+---+---+---+---+\n",
      "|Cement|Blast|Fly Ash|Water|Superplasticizer| CA| FA|Age|CMS|\n",
      "+------+-----+-------+-----+----------------+---+---+---+---+\n",
      "+------+-----+-------+-----+----------------+---+---+---+---+\n",
      "\n"
     ]
    }
   ],
   "source": [
    "# Drop rows with conditions using where clause\n",
    "df=df.where(\"Water == 162.0\")\n",
    "\n",
    "df.show(5)\n"
   ]
  },
  {
   "cell_type": "code",
   "execution_count": null,
   "id": "09dc708a",
   "metadata": {},
   "outputs": [],
   "source": [
    "# Rerefence: https://www.datasciencemadesimple.com/get-substring-of-the-column-in-pyspark/"
   ]
  }
 ],
 "metadata": {
  "kernelspec": {
   "display_name": "Python 3",
   "language": "python",
   "name": "python3"
  },
  "language_info": {
   "codemirror_mode": {
    "name": "ipython",
    "version": 3
   },
   "file_extension": ".py",
   "mimetype": "text/x-python",
   "name": "python",
   "nbconvert_exporter": "python",
   "pygments_lexer": "ipython3",
   "version": "3.8.8"
  }
 },
 "nbformat": 4,
 "nbformat_minor": 5
}
