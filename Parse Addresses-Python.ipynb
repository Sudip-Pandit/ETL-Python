{
 "cells": [
  {
   "cell_type": "code",
   "execution_count": 3,
   "id": "bd36e3d2",
   "metadata": {},
   "outputs": [],
   "source": [
    "# import packages\n",
    "import usaddress"
   ]
  },
  {
   "cell_type": "code",
   "execution_count": 4,
   "id": "2dc86d6b",
   "metadata": {},
   "outputs": [
    {
     "data": {
      "text/plain": [
       "['DIRECTIONS',\n",
       " 'GROUP_LABEL',\n",
       " 'LABELS',\n",
       " 'MODEL_FILE',\n",
       " 'MODEL_PATH',\n",
       " 'OrderedDict',\n",
       " 'PARENT_LABEL',\n",
       " 'RepeatedLabelError',\n",
       " 'STREET_NAMES',\n",
       " 'TAGGER',\n",
       " '__builtins__',\n",
       " '__cached__',\n",
       " '__doc__',\n",
       " '__file__',\n",
       " '__loader__',\n",
       " '__name__',\n",
       " '__package__',\n",
       " '__path__',\n",
       " '__spec__',\n",
       " 'digits',\n",
       " 'os',\n",
       " 'parse',\n",
       " 'print_function',\n",
       " 'probableparsing',\n",
       " 'pycrfsuite',\n",
       " 're',\n",
       " 'str',\n",
       " 'string',\n",
       " 'tag',\n",
       " 'tokenFeatures',\n",
       " 'tokenize',\n",
       " 'tokens2features',\n",
       " 'trailingZeros',\n",
       " 'warnings',\n",
       " 'zip']"
      ]
     },
     "execution_count": 4,
     "metadata": {},
     "output_type": "execute_result"
    }
   ],
   "source": [
    "dir(usaddress)"
   ]
  },
  {
   "cell_type": "code",
   "execution_count": 11,
   "id": "086c3273",
   "metadata": {},
   "outputs": [],
   "source": [
    "my_address = \"111 North 122th Street # 1911, Bennington, NE, 68134\""
   ]
  },
  {
   "cell_type": "code",
   "execution_count": 12,
   "id": "fd49923a",
   "metadata": {},
   "outputs": [
    {
     "data": {
      "text/plain": [
       "[('111', 'AddressNumber'),\n",
       " ('North', 'StreetNamePreDirectional'),\n",
       " ('122th', 'StreetName'),\n",
       " ('Street', 'StreetNamePostType'),\n",
       " ('#', 'OccupancyIdentifier'),\n",
       " ('1911,', 'OccupancyIdentifier'),\n",
       " ('Bennington,', 'PlaceName'),\n",
       " ('NE,', 'StateName'),\n",
       " ('68134', 'ZipCode')]"
      ]
     },
     "execution_count": 12,
     "metadata": {},
     "output_type": "execute_result"
    }
   ],
   "source": [
    "usaddress.parse(my_address)"
   ]
  },
  {
   "cell_type": "code",
   "execution_count": 13,
   "id": "750475d9",
   "metadata": {},
   "outputs": [
    {
     "data": {
      "text/plain": [
       "(OrderedDict([('AddressNumber', '111'),\n",
       "              ('StreetNamePreDirectional', 'North'),\n",
       "              ('StreetName', '122th'),\n",
       "              ('StreetNamePostType', 'Street'),\n",
       "              ('OccupancyIdentifier', '# 1911'),\n",
       "              ('PlaceName', 'Bennington'),\n",
       "              ('StateName', 'NE'),\n",
       "              ('ZipCode', '68134')]),\n",
       " 'Street Address')"
      ]
     },
     "execution_count": 13,
     "metadata": {},
     "output_type": "execute_result"
    }
   ],
   "source": [
    "#Using tag\n",
    "usaddress.tag(my_address)"
   ]
  },
  {
   "cell_type": "code",
   "execution_count": null,
   "id": "e2038a64",
   "metadata": {},
   "outputs": [],
   "source": []
  }
 ],
 "metadata": {
  "kernelspec": {
   "display_name": "Python 3",
   "language": "python",
   "name": "python3"
  },
  "language_info": {
   "codemirror_mode": {
    "name": "ipython",
    "version": 3
   },
   "file_extension": ".py",
   "mimetype": "text/x-python",
   "name": "python",
   "nbconvert_exporter": "python",
   "pygments_lexer": "ipython3",
   "version": "3.8.8"
  }
 },
 "nbformat": 4,
 "nbformat_minor": 5
}
