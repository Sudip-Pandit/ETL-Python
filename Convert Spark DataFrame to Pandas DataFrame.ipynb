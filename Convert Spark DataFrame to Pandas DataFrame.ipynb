{
 "cells": [
  {
   "cell_type": "code",
   "execution_count": 1,
   "id": "cd69e74a",
   "metadata": {},
   "outputs": [],
   "source": [
    "import findspark\n",
    "findspark.init()"
   ]
  },
  {
   "cell_type": "code",
   "execution_count": 2,
   "id": "55beeff0",
   "metadata": {},
   "outputs": [
    {
     "data": {
      "text/plain": [
       "'C:\\\\spark\\\\spark-3.1.2-bin-hadoop3.2'"
      ]
     },
     "execution_count": 2,
     "metadata": {},
     "output_type": "execute_result"
    }
   ],
   "source": [
    "findspark.find()"
   ]
  },
  {
   "cell_type": "code",
   "execution_count": 3,
   "id": "fb8d6aa1",
   "metadata": {},
   "outputs": [],
   "source": [
    "import pyspark\n",
    "from pyspark.sql import SparkSession\n",
    "from pyspark import SparkContext, SparkConf"
   ]
  },
  {
   "cell_type": "code",
   "execution_count": 4,
   "id": "64b77bd6",
   "metadata": {},
   "outputs": [],
   "source": [
    "conf = pyspark.SparkConf().setAppName(\"my_app\").setMaster(\"local\")"
   ]
  },
  {
   "cell_type": "code",
   "execution_count": 9,
   "id": "e14d691f",
   "metadata": {},
   "outputs": [],
   "source": [
    "from pyspark.sql import SQLContext"
   ]
  },
  {
   "cell_type": "code",
   "execution_count": 10,
   "id": "719656ac",
   "metadata": {},
   "outputs": [],
   "source": [
    "sc = pyspark.SparkContext(conf=conf)"
   ]
  },
  {
   "cell_type": "code",
   "execution_count": 11,
   "id": "311762c1",
   "metadata": {},
   "outputs": [],
   "source": [
    "spark = SparkSession(sc)"
   ]
  },
  {
   "cell_type": "code",
   "execution_count": 12,
   "id": "da919608",
   "metadata": {},
   "outputs": [],
   "source": [
    "sql_c = SQLContext(sc)"
   ]
  },
  {
   "cell_type": "code",
   "execution_count": 13,
   "id": "718e2b2f",
   "metadata": {},
   "outputs": [],
   "source": [
    "# import a csv file located in local\n",
    "df = sql_c.read.csv('Concrete_Data.csv', header=True)"
   ]
  },
  {
   "cell_type": "code",
   "execution_count": 15,
   "id": "3428ab5f",
   "metadata": {},
   "outputs": [
    {
     "name": "stdout",
     "output_type": "stream",
     "text": [
      "+------+------+-------+------+----------------+-------+------+----+------+\n",
      "|Cement| Blast|Fly Ash| Water|Superplasticizer|     CA|    FA| Age|   CMS|\n",
      "+------+------+-------+------+----------------+-------+------+----+------+\n",
      "|540.0 |  0.0 |   0.0 |162.0 |            2.5 |1040.0 |676.0 | 28 |79.99 |\n",
      "|540.0 |  0.0 |   0.0 |162.0 |            2.5 |1055.0 |676.0 | 28 |61.89 |\n",
      "|332.5 |142.5 |   0.0 |228.0 |            0.0 | 932.0 |594.0 |270 |40.27 |\n",
      "|332.5 |142.5 |   0.0 |228.0 |            0.0 | 932.0 |594.0 |365 |41.05 |\n",
      "|198.6 |132.4 |   0.0 |192.0 |            0.0 | 978.4 |825.5 |360 |44.30 |\n",
      "+------+------+-------+------+----------------+-------+------+----+------+\n",
      "only showing top 5 rows\n",
      "\n"
     ]
    }
   ],
   "source": [
    "df.show(5)"
   ]
  },
  {
   "cell_type": "code",
   "execution_count": 16,
   "id": "93008a06",
   "metadata": {},
   "outputs": [
    {
     "name": "stdout",
     "output_type": "stream",
     "text": [
      "+------+------+-------+------+----------------+-------+------+----+------+\n",
      "|Cement| Blast|Fly Ash| Water|Superplasticizer|     CA|    FA| Age|   CMS|\n",
      "+------+------+-------+------+----------------+-------+------+----+------+\n",
      "|540.0 |  0.0 |   0.0 |162.0 |            2.5 |1040.0 |676.0 | 28 |79.99 |\n",
      "|540.0 |  0.0 |   0.0 |162.0 |            2.5 |1055.0 |676.0 | 28 |61.89 |\n",
      "|332.5 |142.5 |   0.0 |228.0 |            0.0 | 932.0 |594.0 |270 |40.27 |\n",
      "+------+------+-------+------+----------------+-------+------+----+------+\n",
      "only showing top 3 rows\n",
      "\n"
     ]
    }
   ],
   "source": [
    "df.show(3)"
   ]
  },
  {
   "cell_type": "code",
   "execution_count": 21,
   "id": "dad518b7",
   "metadata": {},
   "outputs": [
    {
     "name": "stdout",
     "output_type": "stream",
     "text": [
      "Shape of the records in the datasets is 1030 , 9\n"
     ]
    }
   ],
   "source": [
    "print(\"Shape of the records in the datasets is\", df.count(), ',', len(df.columns))"
   ]
  },
  {
   "cell_type": "code",
   "execution_count": 22,
   "id": "8dac4ee7",
   "metadata": {},
   "outputs": [
    {
     "data": {
      "text/plain": [
       "[('Cement', 'string'),\n",
       " ('Blast', 'string'),\n",
       " ('Fly Ash', 'string'),\n",
       " ('Water', 'string'),\n",
       " ('Superplasticizer', 'string'),\n",
       " ('CA', 'string'),\n",
       " ('FA', 'string'),\n",
       " ('Age', 'string'),\n",
       " ('CMS', 'string')]"
      ]
     },
     "execution_count": 22,
     "metadata": {},
     "output_type": "execute_result"
    }
   ],
   "source": [
    "df.dtypes"
   ]
  },
  {
   "cell_type": "code",
   "execution_count": 23,
   "id": "ff643080",
   "metadata": {},
   "outputs": [],
   "source": [
    "# convert the sparkdataframe into pandas dataframe\n",
    "dataframe_pandas = df.toPandas()"
   ]
  },
  {
   "cell_type": "code",
   "execution_count": 24,
   "id": "40f6a21b",
   "metadata": {},
   "outputs": [
    {
     "data": {
      "text/html": [
       "<div>\n",
       "<style scoped>\n",
       "    .dataframe tbody tr th:only-of-type {\n",
       "        vertical-align: middle;\n",
       "    }\n",
       "\n",
       "    .dataframe tbody tr th {\n",
       "        vertical-align: top;\n",
       "    }\n",
       "\n",
       "    .dataframe thead th {\n",
       "        text-align: right;\n",
       "    }\n",
       "</style>\n",
       "<table border=\"1\" class=\"dataframe\">\n",
       "  <thead>\n",
       "    <tr style=\"text-align: right;\">\n",
       "      <th></th>\n",
       "      <th>Cement</th>\n",
       "      <th>Blast</th>\n",
       "      <th>Fly Ash</th>\n",
       "      <th>Water</th>\n",
       "      <th>Superplasticizer</th>\n",
       "      <th>CA</th>\n",
       "      <th>FA</th>\n",
       "      <th>Age</th>\n",
       "      <th>CMS</th>\n",
       "    </tr>\n",
       "  </thead>\n",
       "  <tbody>\n",
       "    <tr>\n",
       "      <th>0</th>\n",
       "      <td>540.0</td>\n",
       "      <td>0.0</td>\n",
       "      <td>0.0</td>\n",
       "      <td>162.0</td>\n",
       "      <td>2.5</td>\n",
       "      <td>1040.0</td>\n",
       "      <td>676.0</td>\n",
       "      <td>28</td>\n",
       "      <td>79.99</td>\n",
       "    </tr>\n",
       "    <tr>\n",
       "      <th>1</th>\n",
       "      <td>540.0</td>\n",
       "      <td>0.0</td>\n",
       "      <td>0.0</td>\n",
       "      <td>162.0</td>\n",
       "      <td>2.5</td>\n",
       "      <td>1055.0</td>\n",
       "      <td>676.0</td>\n",
       "      <td>28</td>\n",
       "      <td>61.89</td>\n",
       "    </tr>\n",
       "    <tr>\n",
       "      <th>2</th>\n",
       "      <td>332.5</td>\n",
       "      <td>142.5</td>\n",
       "      <td>0.0</td>\n",
       "      <td>228.0</td>\n",
       "      <td>0.0</td>\n",
       "      <td>932.0</td>\n",
       "      <td>594.0</td>\n",
       "      <td>270</td>\n",
       "      <td>40.27</td>\n",
       "    </tr>\n",
       "    <tr>\n",
       "      <th>3</th>\n",
       "      <td>332.5</td>\n",
       "      <td>142.5</td>\n",
       "      <td>0.0</td>\n",
       "      <td>228.0</td>\n",
       "      <td>0.0</td>\n",
       "      <td>932.0</td>\n",
       "      <td>594.0</td>\n",
       "      <td>365</td>\n",
       "      <td>41.05</td>\n",
       "    </tr>\n",
       "    <tr>\n",
       "      <th>4</th>\n",
       "      <td>198.6</td>\n",
       "      <td>132.4</td>\n",
       "      <td>0.0</td>\n",
       "      <td>192.0</td>\n",
       "      <td>0.0</td>\n",
       "      <td>978.4</td>\n",
       "      <td>825.5</td>\n",
       "      <td>360</td>\n",
       "      <td>44.30</td>\n",
       "    </tr>\n",
       "    <tr>\n",
       "      <th>...</th>\n",
       "      <td>...</td>\n",
       "      <td>...</td>\n",
       "      <td>...</td>\n",
       "      <td>...</td>\n",
       "      <td>...</td>\n",
       "      <td>...</td>\n",
       "      <td>...</td>\n",
       "      <td>...</td>\n",
       "      <td>...</td>\n",
       "    </tr>\n",
       "    <tr>\n",
       "      <th>1025</th>\n",
       "      <td>276.4</td>\n",
       "      <td>116.0</td>\n",
       "      <td>90.3</td>\n",
       "      <td>179.6</td>\n",
       "      <td>8.9</td>\n",
       "      <td>870.1</td>\n",
       "      <td>768.3</td>\n",
       "      <td>28</td>\n",
       "      <td>44.28</td>\n",
       "    </tr>\n",
       "    <tr>\n",
       "      <th>1026</th>\n",
       "      <td>322.2</td>\n",
       "      <td>0.0</td>\n",
       "      <td>115.6</td>\n",
       "      <td>196.0</td>\n",
       "      <td>10.4</td>\n",
       "      <td>817.9</td>\n",
       "      <td>813.4</td>\n",
       "      <td>28</td>\n",
       "      <td>31.18</td>\n",
       "    </tr>\n",
       "    <tr>\n",
       "      <th>1027</th>\n",
       "      <td>148.5</td>\n",
       "      <td>139.4</td>\n",
       "      <td>108.6</td>\n",
       "      <td>192.7</td>\n",
       "      <td>6.1</td>\n",
       "      <td>892.4</td>\n",
       "      <td>780.0</td>\n",
       "      <td>28</td>\n",
       "      <td>23.70</td>\n",
       "    </tr>\n",
       "    <tr>\n",
       "      <th>1028</th>\n",
       "      <td>159.1</td>\n",
       "      <td>186.7</td>\n",
       "      <td>0.0</td>\n",
       "      <td>175.6</td>\n",
       "      <td>11.3</td>\n",
       "      <td>989.6</td>\n",
       "      <td>788.9</td>\n",
       "      <td>28</td>\n",
       "      <td>32.77</td>\n",
       "    </tr>\n",
       "    <tr>\n",
       "      <th>1029</th>\n",
       "      <td>260.9</td>\n",
       "      <td>100.5</td>\n",
       "      <td>78.3</td>\n",
       "      <td>200.6</td>\n",
       "      <td>8.6</td>\n",
       "      <td>864.5</td>\n",
       "      <td>761.5</td>\n",
       "      <td>28</td>\n",
       "      <td>32.40</td>\n",
       "    </tr>\n",
       "  </tbody>\n",
       "</table>\n",
       "<p>1030 rows × 9 columns</p>\n",
       "</div>"
      ],
      "text/plain": [
       "      Cement   Blast Fly Ash   Water Superplasticizer       CA      FA   Age  \\\n",
       "0     540.0     0.0     0.0   162.0              2.5   1040.0   676.0    28    \n",
       "1     540.0     0.0     0.0   162.0              2.5   1055.0   676.0    28    \n",
       "2     332.5   142.5     0.0   228.0              0.0    932.0   594.0   270    \n",
       "3     332.5   142.5     0.0   228.0              0.0    932.0   594.0   365    \n",
       "4     198.6   132.4     0.0   192.0              0.0    978.4   825.5   360    \n",
       "...      ...     ...     ...     ...              ...      ...     ...   ...   \n",
       "1025  276.4   116.0    90.3   179.6              8.9    870.1   768.3    28    \n",
       "1026  322.2     0.0   115.6   196.0             10.4    817.9   813.4    28    \n",
       "1027  148.5   139.4   108.6   192.7              6.1    892.4   780.0    28    \n",
       "1028  159.1   186.7     0.0   175.6             11.3    989.6   788.9    28    \n",
       "1029  260.9   100.5    78.3   200.6              8.6    864.5   761.5    28    \n",
       "\n",
       "         CMS  \n",
       "0     79.99   \n",
       "1     61.89   \n",
       "2     40.27   \n",
       "3     41.05   \n",
       "4     44.30   \n",
       "...      ...  \n",
       "1025  44.28   \n",
       "1026  31.18   \n",
       "1027  23.70   \n",
       "1028  32.77   \n",
       "1029  32.40   \n",
       "\n",
       "[1030 rows x 9 columns]"
      ]
     },
     "execution_count": 24,
     "metadata": {},
     "output_type": "execute_result"
    }
   ],
   "source": [
    "dataframe_pandas"
   ]
  },
  {
   "cell_type": "code",
   "execution_count": 25,
   "id": "b08d1057",
   "metadata": {},
   "outputs": [],
   "source": [
    "df1 = dataframe_pandas.copy()"
   ]
  },
  {
   "cell_type": "code",
   "execution_count": 26,
   "id": "1aa166f2",
   "metadata": {},
   "outputs": [
    {
     "data": {
      "text/html": [
       "<div>\n",
       "<style scoped>\n",
       "    .dataframe tbody tr th:only-of-type {\n",
       "        vertical-align: middle;\n",
       "    }\n",
       "\n",
       "    .dataframe tbody tr th {\n",
       "        vertical-align: top;\n",
       "    }\n",
       "\n",
       "    .dataframe thead th {\n",
       "        text-align: right;\n",
       "    }\n",
       "</style>\n",
       "<table border=\"1\" class=\"dataframe\">\n",
       "  <thead>\n",
       "    <tr style=\"text-align: right;\">\n",
       "      <th></th>\n",
       "      <th>Cement</th>\n",
       "      <th>Blast</th>\n",
       "      <th>Fly Ash</th>\n",
       "      <th>Water</th>\n",
       "      <th>Superplasticizer</th>\n",
       "      <th>CA</th>\n",
       "      <th>FA</th>\n",
       "      <th>Age</th>\n",
       "      <th>CMS</th>\n",
       "    </tr>\n",
       "  </thead>\n",
       "  <tbody>\n",
       "    <tr>\n",
       "      <th>0</th>\n",
       "      <td>540.0</td>\n",
       "      <td>0.0</td>\n",
       "      <td>0.0</td>\n",
       "      <td>162.0</td>\n",
       "      <td>2.5</td>\n",
       "      <td>1040.0</td>\n",
       "      <td>676.0</td>\n",
       "      <td>28</td>\n",
       "      <td>79.99</td>\n",
       "    </tr>\n",
       "    <tr>\n",
       "      <th>1</th>\n",
       "      <td>540.0</td>\n",
       "      <td>0.0</td>\n",
       "      <td>0.0</td>\n",
       "      <td>162.0</td>\n",
       "      <td>2.5</td>\n",
       "      <td>1055.0</td>\n",
       "      <td>676.0</td>\n",
       "      <td>28</td>\n",
       "      <td>61.89</td>\n",
       "    </tr>\n",
       "    <tr>\n",
       "      <th>2</th>\n",
       "      <td>332.5</td>\n",
       "      <td>142.5</td>\n",
       "      <td>0.0</td>\n",
       "      <td>228.0</td>\n",
       "      <td>0.0</td>\n",
       "      <td>932.0</td>\n",
       "      <td>594.0</td>\n",
       "      <td>270</td>\n",
       "      <td>40.27</td>\n",
       "    </tr>\n",
       "    <tr>\n",
       "      <th>3</th>\n",
       "      <td>332.5</td>\n",
       "      <td>142.5</td>\n",
       "      <td>0.0</td>\n",
       "      <td>228.0</td>\n",
       "      <td>0.0</td>\n",
       "      <td>932.0</td>\n",
       "      <td>594.0</td>\n",
       "      <td>365</td>\n",
       "      <td>41.05</td>\n",
       "    </tr>\n",
       "    <tr>\n",
       "      <th>4</th>\n",
       "      <td>198.6</td>\n",
       "      <td>132.4</td>\n",
       "      <td>0.0</td>\n",
       "      <td>192.0</td>\n",
       "      <td>0.0</td>\n",
       "      <td>978.4</td>\n",
       "      <td>825.5</td>\n",
       "      <td>360</td>\n",
       "      <td>44.30</td>\n",
       "    </tr>\n",
       "  </tbody>\n",
       "</table>\n",
       "</div>"
      ],
      "text/plain": [
       "   Cement   Blast Fly Ash   Water Superplasticizer       CA      FA   Age  \\\n",
       "0  540.0     0.0     0.0   162.0              2.5   1040.0   676.0    28    \n",
       "1  540.0     0.0     0.0   162.0              2.5   1055.0   676.0    28    \n",
       "2  332.5   142.5     0.0   228.0              0.0    932.0   594.0   270    \n",
       "3  332.5   142.5     0.0   228.0              0.0    932.0   594.0   365    \n",
       "4  198.6   132.4     0.0   192.0              0.0    978.4   825.5   360    \n",
       "\n",
       "      CMS  \n",
       "0  79.99   \n",
       "1  61.89   \n",
       "2  40.27   \n",
       "3  41.05   \n",
       "4  44.30   "
      ]
     },
     "execution_count": 26,
     "metadata": {},
     "output_type": "execute_result"
    }
   ],
   "source": [
    "df1.head()"
   ]
  },
  {
   "cell_type": "code",
   "execution_count": 27,
   "id": "9a1440e5",
   "metadata": {},
   "outputs": [
    {
     "data": {
      "text/html": [
       "<div>\n",
       "<style scoped>\n",
       "    .dataframe tbody tr th:only-of-type {\n",
       "        vertical-align: middle;\n",
       "    }\n",
       "\n",
       "    .dataframe tbody tr th {\n",
       "        vertical-align: top;\n",
       "    }\n",
       "\n",
       "    .dataframe thead th {\n",
       "        text-align: right;\n",
       "    }\n",
       "</style>\n",
       "<table border=\"1\" class=\"dataframe\">\n",
       "  <thead>\n",
       "    <tr style=\"text-align: right;\">\n",
       "      <th></th>\n",
       "      <th>Cement</th>\n",
       "      <th>Blast</th>\n",
       "      <th>Fly Ash</th>\n",
       "      <th>Water</th>\n",
       "      <th>Superplasticizer</th>\n",
       "      <th>CA</th>\n",
       "      <th>FA</th>\n",
       "      <th>Age</th>\n",
       "      <th>CMS</th>\n",
       "    </tr>\n",
       "  </thead>\n",
       "  <tbody>\n",
       "    <tr>\n",
       "      <th>1025</th>\n",
       "      <td>276.4</td>\n",
       "      <td>116.0</td>\n",
       "      <td>90.3</td>\n",
       "      <td>179.6</td>\n",
       "      <td>8.9</td>\n",
       "      <td>870.1</td>\n",
       "      <td>768.3</td>\n",
       "      <td>28</td>\n",
       "      <td>44.28</td>\n",
       "    </tr>\n",
       "    <tr>\n",
       "      <th>1026</th>\n",
       "      <td>322.2</td>\n",
       "      <td>0.0</td>\n",
       "      <td>115.6</td>\n",
       "      <td>196.0</td>\n",
       "      <td>10.4</td>\n",
       "      <td>817.9</td>\n",
       "      <td>813.4</td>\n",
       "      <td>28</td>\n",
       "      <td>31.18</td>\n",
       "    </tr>\n",
       "    <tr>\n",
       "      <th>1027</th>\n",
       "      <td>148.5</td>\n",
       "      <td>139.4</td>\n",
       "      <td>108.6</td>\n",
       "      <td>192.7</td>\n",
       "      <td>6.1</td>\n",
       "      <td>892.4</td>\n",
       "      <td>780.0</td>\n",
       "      <td>28</td>\n",
       "      <td>23.70</td>\n",
       "    </tr>\n",
       "    <tr>\n",
       "      <th>1028</th>\n",
       "      <td>159.1</td>\n",
       "      <td>186.7</td>\n",
       "      <td>0.0</td>\n",
       "      <td>175.6</td>\n",
       "      <td>11.3</td>\n",
       "      <td>989.6</td>\n",
       "      <td>788.9</td>\n",
       "      <td>28</td>\n",
       "      <td>32.77</td>\n",
       "    </tr>\n",
       "    <tr>\n",
       "      <th>1029</th>\n",
       "      <td>260.9</td>\n",
       "      <td>100.5</td>\n",
       "      <td>78.3</td>\n",
       "      <td>200.6</td>\n",
       "      <td>8.6</td>\n",
       "      <td>864.5</td>\n",
       "      <td>761.5</td>\n",
       "      <td>28</td>\n",
       "      <td>32.40</td>\n",
       "    </tr>\n",
       "  </tbody>\n",
       "</table>\n",
       "</div>"
      ],
      "text/plain": [
       "      Cement   Blast Fly Ash   Water Superplasticizer      CA      FA  Age  \\\n",
       "1025  276.4   116.0    90.3   179.6              8.9   870.1   768.3   28    \n",
       "1026  322.2     0.0   115.6   196.0             10.4   817.9   813.4   28    \n",
       "1027  148.5   139.4   108.6   192.7              6.1   892.4   780.0   28    \n",
       "1028  159.1   186.7     0.0   175.6             11.3   989.6   788.9   28    \n",
       "1029  260.9   100.5    78.3   200.6              8.6   864.5   761.5   28    \n",
       "\n",
       "         CMS  \n",
       "1025  44.28   \n",
       "1026  31.18   \n",
       "1027  23.70   \n",
       "1028  32.77   \n",
       "1029  32.40   "
      ]
     },
     "execution_count": 27,
     "metadata": {},
     "output_type": "execute_result"
    }
   ],
   "source": [
    "df1.tail()"
   ]
  },
  {
   "cell_type": "code",
   "execution_count": 28,
   "id": "98743a41",
   "metadata": {},
   "outputs": [
    {
     "data": {
      "text/plain": [
       "(1030, 9)"
      ]
     },
     "execution_count": 28,
     "metadata": {},
     "output_type": "execute_result"
    }
   ],
   "source": [
    "# shape of the datasets\n",
    "df1.shape"
   ]
  },
  {
   "cell_type": "code",
   "execution_count": 29,
   "id": "4d85f26c",
   "metadata": {},
   "outputs": [
    {
     "data": {
      "text/plain": [
       "Index(['Cement', 'Blast', 'Fly Ash', 'Water', 'Superplasticizer', 'CA', 'FA',\n",
       "       'Age', 'CMS'],\n",
       "      dtype='object')"
      ]
     },
     "execution_count": 29,
     "metadata": {},
     "output_type": "execute_result"
    }
   ],
   "source": [
    "df1.columns"
   ]
  },
  {
   "cell_type": "code",
   "execution_count": 31,
   "id": "b4d8c698",
   "metadata": {},
   "outputs": [
    {
     "name": "stdout",
     "output_type": "stream",
     "text": [
      "<class 'pandas.core.frame.DataFrame'>\n",
      "RangeIndex: 1030 entries, 0 to 1029\n",
      "Data columns (total 9 columns):\n",
      " #   Column            Non-Null Count  Dtype \n",
      "---  ------            --------------  ----- \n",
      " 0   Cement            1030 non-null   object\n",
      " 1   Blast             1030 non-null   object\n",
      " 2   Fly Ash           1030 non-null   object\n",
      " 3   Water             1030 non-null   object\n",
      " 4   Superplasticizer  1030 non-null   object\n",
      " 5   CA                1030 non-null   object\n",
      " 6   FA                1030 non-null   object\n",
      " 7   Age               1030 non-null   object\n",
      " 8   CMS               1030 non-null   object\n",
      "dtypes: object(9)\n",
      "memory usage: 72.5+ KB\n"
     ]
    }
   ],
   "source": [
    "# info of the dataframe\n",
    "df1.info()"
   ]
  },
  {
   "cell_type": "code",
   "execution_count": 32,
   "id": "dbc64843",
   "metadata": {},
   "outputs": [],
   "source": [
    "# convert the pandas dataframe to spark dataframe\n",
    "df_sparkDF = sql_c.createDataFrame(df1)"
   ]
  },
  {
   "cell_type": "code",
   "execution_count": 33,
   "id": "cfb46f2f",
   "metadata": {},
   "outputs": [
    {
     "name": "stdout",
     "output_type": "stream",
     "text": [
      "+------+------+-------+------+----------------+-------+------+----+------+\n",
      "|Cement| Blast|Fly Ash| Water|Superplasticizer|     CA|    FA| Age|   CMS|\n",
      "+------+------+-------+------+----------------+-------+------+----+------+\n",
      "|540.0 |  0.0 |   0.0 |162.0 |            2.5 |1040.0 |676.0 | 28 |79.99 |\n",
      "|540.0 |  0.0 |   0.0 |162.0 |            2.5 |1055.0 |676.0 | 28 |61.89 |\n",
      "|332.5 |142.5 |   0.0 |228.0 |            0.0 | 932.0 |594.0 |270 |40.27 |\n",
      "|332.5 |142.5 |   0.0 |228.0 |            0.0 | 932.0 |594.0 |365 |41.05 |\n",
      "|198.6 |132.4 |   0.0 |192.0 |            0.0 | 978.4 |825.5 |360 |44.30 |\n",
      "|266.0 |114.0 |   0.0 |228.0 |            0.0 | 932.0 |670.0 | 90 |47.03 |\n",
      "|380.0 | 95.0 |   0.0 |228.0 |            0.0 | 932.0 |594.0 |365 |43.70 |\n",
      "|380.0 | 95.0 |   0.0 |228.0 |            0.0 | 932.0 |594.0 | 28 |36.45 |\n",
      "|266.0 |114.0 |   0.0 |228.0 |            0.0 | 932.0 |670.0 | 28 |45.85 |\n",
      "|475.0 |  0.0 |   0.0 |228.0 |            0.0 | 932.0 |594.0 | 28 |39.29 |\n",
      "|198.6 |132.4 |   0.0 |192.0 |            0.0 | 978.4 |825.5 | 90 |38.07 |\n",
      "|198.6 |132.4 |   0.0 |192.0 |            0.0 | 978.4 |825.5 | 28 |28.02 |\n",
      "|427.5 | 47.5 |   0.0 |228.0 |            0.0 | 932.0 |594.0 |270 |43.01 |\n",
      "|190.0 |190.0 |   0.0 |228.0 |            0.0 | 932.0 |670.0 | 90 |42.33 |\n",
      "|304.0 | 76.0 |   0.0 |228.0 |            0.0 | 932.0 |670.0 | 28 |47.81 |\n",
      "|380.0 |  0.0 |   0.0 |228.0 |            0.0 | 932.0 |670.0 | 90 |52.91 |\n",
      "|139.6 |209.4 |   0.0 |192.0 |            0.0 |1047.0 |806.9 | 90 |39.36 |\n",
      "|342.0 | 38.0 |   0.0 |228.0 |            0.0 | 932.0 |670.0 |365 |56.14 |\n",
      "|380.0 | 95.0 |   0.0 |228.0 |            0.0 | 932.0 |594.0 | 90 |40.56 |\n",
      "|475.0 |  0.0 |   0.0 |228.0 |            0.0 | 932.0 |594.0 |180 |42.62 |\n",
      "+------+------+-------+------+----------------+-------+------+----+------+\n",
      "only showing top 20 rows\n",
      "\n"
     ]
    }
   ],
   "source": [
    "df_sparkDF.show()"
   ]
  }
 ],
 "metadata": {
  "kernelspec": {
   "display_name": "Python 3",
   "language": "python",
   "name": "python3"
  },
  "language_info": {
   "codemirror_mode": {
    "name": "ipython",
    "version": 3
   },
   "file_extension": ".py",
   "mimetype": "text/x-python",
   "name": "python",
   "nbconvert_exporter": "python",
   "pygments_lexer": "ipython3",
   "version": "3.8.8"
  }
 },
 "nbformat": 4,
 "nbformat_minor": 5
}
