{
 "cells": [
  {
   "cell_type": "code",
   "execution_count": 1,
   "id": "985addc7",
   "metadata": {},
   "outputs": [],
   "source": [
    "from collections import Counter"
   ]
  },
  {
   "cell_type": "code",
   "execution_count": 2,
   "id": "d436ddc4",
   "metadata": {},
   "outputs": [
    {
     "name": "stdout",
     "output_type": "stream",
     "text": [
      " Volume in drive C is Windows\n",
      " Volume Serial Number is 666F-1FAE\n",
      "\n",
      " Directory of C:\\Users\\Sudip\\Desktop\\Titanic\n",
      "\n",
      "10/15/2021  01:35 PM    <DIR>          .\n",
      "10/15/2021  01:35 PM    <DIR>          ..\n",
      "10/15/2021  01:35 PM    <DIR>          .ipynb_checkpoints\n",
      "10/15/2021  01:35 PM                72 ETL-Titanic Datasets.ipynb\n",
      "10/15/2021  01:32 PM            28,629 test-titanic.csv\n",
      "10/15/2021  01:32 PM            61,194 train-titanic.csv\n",
      "               3 File(s)         89,895 bytes\n",
      "               3 Dir(s)  51,541,409,792 bytes free\n"
     ]
    }
   ],
   "source": [
    "ls"
   ]
  },
  {
   "cell_type": "code",
   "execution_count": 3,
   "id": "75901611",
   "metadata": {},
   "outputs": [
    {
     "data": {
      "text/plain": [
       "'C:\\\\Users\\\\Sudip\\\\Desktop\\\\Titanic'"
      ]
     },
     "execution_count": 3,
     "metadata": {},
     "output_type": "execute_result"
    }
   ],
   "source": [
    "pwd"
   ]
  },
  {
   "cell_type": "code",
   "execution_count": 4,
   "id": "e988a203",
   "metadata": {},
   "outputs": [
    {
     "data": {
      "text/html": [
       "\n",
       "            <div>\n",
       "                <p><b>SparkSession - in-memory</b></p>\n",
       "                \n",
       "        <div>\n",
       "            <p><b>SparkContext</b></p>\n",
       "\n",
       "            <p><a href=\"http://LAPTOP-84FU76OH:4040\">Spark UI</a></p>\n",
       "\n",
       "            <dl>\n",
       "              <dt>Version</dt>\n",
       "                <dd><code>v3.1.2</code></dd>\n",
       "              <dt>Master</dt>\n",
       "                <dd><code>local[*]</code></dd>\n",
       "              <dt>AppName</dt>\n",
       "                <dd><code>pyspark-shell</code></dd>\n",
       "            </dl>\n",
       "        </div>\n",
       "        \n",
       "            </div>\n",
       "        "
      ],
      "text/plain": [
       "<pyspark.sql.session.SparkSession at 0x1edfb485d90>"
      ]
     },
     "execution_count": 4,
     "metadata": {},
     "output_type": "execute_result"
    }
   ],
   "source": [
    "import findspark\n",
    "findspark.init()\n",
    "from pyspark.sql import SparkSession\n",
    "sc = SparkSession.builder.master(\"local[*]\").getOrCreate()\n",
    "sc.conf.set(\"spark.sql.repl.eagerEval.enabled\", True) # Property used to format output tables better\n",
    "sc"
   ]
  },
  {
   "cell_type": "code",
   "execution_count": 7,
   "id": "56dde6eb",
   "metadata": {},
   "outputs": [
    {
     "data": {
      "text/plain": [
       "[Row(PassengerId=1, Survived=0, Pclass=3, Name='Braund, Mr. Owen Harris', Sex='male', Age=22.0, SibSp=1, Parch=0, Ticket='A/5 21171', Fare=7.25, Cabin=None, Embarked='S'),\n",
       " Row(PassengerId=2, Survived=1, Pclass=1, Name='Cumings, Mrs. John Bradley (Florence Briggs Thayer)', Sex='female', Age=38.0, SibSp=1, Parch=0, Ticket='PC 17599', Fare=71.2833, Cabin='C85', Embarked='C'),\n",
       " Row(PassengerId=3, Survived=1, Pclass=3, Name='Heikkinen, Miss. Laina', Sex='female', Age=26.0, SibSp=0, Parch=0, Ticket='STON/O2. 3101282', Fare=7.925, Cabin=None, Embarked='S'),\n",
       " Row(PassengerId=4, Survived=1, Pclass=1, Name='Futrelle, Mrs. Jacques Heath (Lily May Peel)', Sex='female', Age=35.0, SibSp=1, Parch=0, Ticket='113803', Fare=53.1, Cabin='C123', Embarked='S'),\n",
       " Row(PassengerId=5, Survived=0, Pclass=3, Name='Allen, Mr. William Henry', Sex='male', Age=35.0, SibSp=0, Parch=0, Ticket='373450', Fare=8.05, Cabin=None, Embarked='S')]"
      ]
     },
     "execution_count": 7,
     "metadata": {},
     "output_type": "execute_result"
    }
   ],
   "source": [
    "# Load the csv into a dataframe\n",
    "train_df = sc.read.csv(\"train-titanic.csv\", header=True, inferSchema=True)\n",
    "train_df.take(5)"
   ]
  },
  {
   "cell_type": "code",
   "execution_count": 8,
   "id": "da67987d",
   "metadata": {},
   "outputs": [
    {
     "name": "stdout",
     "output_type": "stream",
     "text": [
      "+-----------+--------+------+--------------------+------+----+-----+-----+----------------+-------+-----+--------+\n",
      "|PassengerId|Survived|Pclass|                Name|   Sex| Age|SibSp|Parch|          Ticket|   Fare|Cabin|Embarked|\n",
      "+-----------+--------+------+--------------------+------+----+-----+-----+----------------+-------+-----+--------+\n",
      "|          1|       0|     3|Braund, Mr. Owen ...|  male|22.0|    1|    0|       A/5 21171|   7.25| null|       S|\n",
      "|          2|       1|     1|Cumings, Mrs. Joh...|female|38.0|    1|    0|        PC 17599|71.2833|  C85|       C|\n",
      "|          3|       1|     3|Heikkinen, Miss. ...|female|26.0|    0|    0|STON/O2. 3101282|  7.925| null|       S|\n",
      "|          4|       1|     1|Futrelle, Mrs. Ja...|female|35.0|    1|    0|          113803|   53.1| C123|       S|\n",
      "|          5|       0|     3|Allen, Mr. Willia...|  male|35.0|    0|    0|          373450|   8.05| null|       S|\n",
      "|          6|       0|     3|    Moran, Mr. James|  male|null|    0|    0|          330877| 8.4583| null|       Q|\n",
      "|          7|       0|     1|McCarthy, Mr. Tim...|  male|54.0|    0|    0|           17463|51.8625|  E46|       S|\n",
      "|          8|       0|     3|Palsson, Master. ...|  male| 2.0|    3|    1|          349909| 21.075| null|       S|\n",
      "|          9|       1|     3|Johnson, Mrs. Osc...|female|27.0|    0|    2|          347742|11.1333| null|       S|\n",
      "|         10|       1|     2|Nasser, Mrs. Nich...|female|14.0|    1|    0|          237736|30.0708| null|       C|\n",
      "+-----------+--------+------+--------------------+------+----+-----+-----+----------------+-------+-----+--------+\n",
      "only showing top 10 rows\n",
      "\n"
     ]
    }
   ],
   "source": [
    "train_df.show(10)"
   ]
  },
  {
   "cell_type": "code",
   "execution_count": 9,
   "id": "927a9952",
   "metadata": {},
   "outputs": [
    {
     "data": {
      "text/plain": [
       "[Row(PassengerId=892, Pclass=3, Name='Kelly, Mr. James', Sex='male', Age=34.5, SibSp=0, Parch=0, Ticket='330911', Fare=7.8292, Cabin=None, Embarked='Q'),\n",
       " Row(PassengerId=893, Pclass=3, Name='Wilkes, Mrs. James (Ellen Needs)', Sex='female', Age=47.0, SibSp=1, Parch=0, Ticket='363272', Fare=7.0, Cabin=None, Embarked='S'),\n",
       " Row(PassengerId=894, Pclass=2, Name='Myles, Mr. Thomas Francis', Sex='male', Age=62.0, SibSp=0, Parch=0, Ticket='240276', Fare=9.6875, Cabin=None, Embarked='Q'),\n",
       " Row(PassengerId=895, Pclass=3, Name='Wirz, Mr. Albert', Sex='male', Age=27.0, SibSp=0, Parch=0, Ticket='315154', Fare=8.6625, Cabin=None, Embarked='S'),\n",
       " Row(PassengerId=896, Pclass=3, Name='Hirvonen, Mrs. Alexander (Helga E Lindqvist)', Sex='female', Age=22.0, SibSp=1, Parch=1, Ticket='3101298', Fare=12.2875, Cabin=None, Embarked='S'),\n",
       " Row(PassengerId=897, Pclass=3, Name='Svensson, Mr. Johan Cervin', Sex='male', Age=14.0, SibSp=0, Parch=0, Ticket='7538', Fare=9.225, Cabin=None, Embarked='S'),\n",
       " Row(PassengerId=898, Pclass=3, Name='Connolly, Miss. Kate', Sex='female', Age=30.0, SibSp=0, Parch=0, Ticket='330972', Fare=7.6292, Cabin=None, Embarked='Q'),\n",
       " Row(PassengerId=899, Pclass=2, Name='Caldwell, Mr. Albert Francis', Sex='male', Age=26.0, SibSp=1, Parch=1, Ticket='248738', Fare=29.0, Cabin=None, Embarked='S'),\n",
       " Row(PassengerId=900, Pclass=3, Name='Abrahim, Mrs. Joseph (Sophie Halaut Easu)', Sex='female', Age=18.0, SibSp=0, Parch=0, Ticket='2657', Fare=7.2292, Cabin=None, Embarked='C'),\n",
       " Row(PassengerId=901, Pclass=3, Name='Davies, Mr. John Samuel', Sex='male', Age=21.0, SibSp=2, Parch=0, Ticket='A/4 48871', Fare=24.15, Cabin=None, Embarked='S')]"
      ]
     },
     "execution_count": 9,
     "metadata": {},
     "output_type": "execute_result"
    }
   ],
   "source": [
    "# do the same process for test_df\n",
    "test_df = sc.read.csv(\"test-titanic.csv\", header=True, inferSchema=True)\n",
    "test_df.take(10)"
   ]
  },
  {
   "cell_type": "code",
   "execution_count": 10,
   "id": "77e8948c",
   "metadata": {},
   "outputs": [
    {
     "name": "stdout",
     "output_type": "stream",
     "text": [
      "+-----------+------+--------------------+------+----+-----+-----+---------+-------+-----+--------+\n",
      "|PassengerId|Pclass|                Name|   Sex| Age|SibSp|Parch|   Ticket|   Fare|Cabin|Embarked|\n",
      "+-----------+------+--------------------+------+----+-----+-----+---------+-------+-----+--------+\n",
      "|        892|     3|    Kelly, Mr. James|  male|34.5|    0|    0|   330911| 7.8292| null|       Q|\n",
      "|        893|     3|Wilkes, Mrs. Jame...|female|47.0|    1|    0|   363272|    7.0| null|       S|\n",
      "|        894|     2|Myles, Mr. Thomas...|  male|62.0|    0|    0|   240276| 9.6875| null|       Q|\n",
      "|        895|     3|    Wirz, Mr. Albert|  male|27.0|    0|    0|   315154| 8.6625| null|       S|\n",
      "|        896|     3|Hirvonen, Mrs. Al...|female|22.0|    1|    1|  3101298|12.2875| null|       S|\n",
      "|        897|     3|Svensson, Mr. Joh...|  male|14.0|    0|    0|     7538|  9.225| null|       S|\n",
      "|        898|     3|Connolly, Miss. Kate|female|30.0|    0|    0|   330972| 7.6292| null|       Q|\n",
      "|        899|     2|Caldwell, Mr. Alb...|  male|26.0|    1|    1|   248738|   29.0| null|       S|\n",
      "|        900|     3|Abrahim, Mrs. Jos...|female|18.0|    0|    0|     2657| 7.2292| null|       C|\n",
      "|        901|     3|Davies, Mr. John ...|  male|21.0|    2|    0|A/4 48871|  24.15| null|       S|\n",
      "+-----------+------+--------------------+------+----+-----+-----+---------+-------+-----+--------+\n",
      "only showing top 10 rows\n",
      "\n"
     ]
    }
   ],
   "source": [
    "test_df.show(10)"
   ]
  },
  {
   "cell_type": "code",
   "execution_count": 25,
   "id": "6641367b",
   "metadata": {},
   "outputs": [],
   "source": [
    "# let's add new columns in dataframe\n",
    "from pyspark.sql.functions import lit, col\n",
    "test_df1 = test_df.withColumn(\"Survived\", lit(0))"
   ]
  },
  {
   "cell_type": "code",
   "execution_count": 26,
   "id": "5fae1c81",
   "metadata": {},
   "outputs": [
    {
     "name": "stdout",
     "output_type": "stream",
     "text": [
      "+-----------+------+--------------------+------+----+-----+-----+-------+-------+-----+--------+--------+\n",
      "|PassengerId|Pclass|                Name|   Sex| Age|SibSp|Parch| Ticket|   Fare|Cabin|Embarked|Survived|\n",
      "+-----------+------+--------------------+------+----+-----+-----+-------+-------+-----+--------+--------+\n",
      "|        892|     3|    Kelly, Mr. James|  male|34.5|    0|    0| 330911| 7.8292| null|       Q|       0|\n",
      "|        893|     3|Wilkes, Mrs. Jame...|female|47.0|    1|    0| 363272|    7.0| null|       S|       0|\n",
      "|        894|     2|Myles, Mr. Thomas...|  male|62.0|    0|    0| 240276| 9.6875| null|       Q|       0|\n",
      "|        895|     3|    Wirz, Mr. Albert|  male|27.0|    0|    0| 315154| 8.6625| null|       S|       0|\n",
      "|        896|     3|Hirvonen, Mrs. Al...|female|22.0|    1|    1|3101298|12.2875| null|       S|       0|\n",
      "+-----------+------+--------------------+------+----+-----+-----+-------+-------+-----+--------+--------+\n",
      "only showing top 5 rows\n",
      "\n"
     ]
    }
   ],
   "source": [
    "test_df1.show(5)"
   ]
  },
  {
   "cell_type": "code",
   "execution_count": 42,
   "id": "ae050609",
   "metadata": {},
   "outputs": [],
   "source": [
    "# concatenate two dataframes\n",
    "x= train_df.union(test_df1)"
   ]
  },
  {
   "cell_type": "code",
   "execution_count": 44,
   "id": "98c440ff",
   "metadata": {},
   "outputs": [
    {
     "name": "stdout",
     "output_type": "stream",
     "text": [
      "+-----------+\n",
      "|passengerId|\n",
      "+-----------+\n",
      "|          1|\n",
      "|          2|\n",
      "|          3|\n",
      "|          4|\n",
      "|          5|\n",
      "|          6|\n",
      "|          7|\n",
      "|          8|\n",
      "|          9|\n",
      "|         10|\n",
      "+-----------+\n",
      "only showing top 10 rows\n",
      "\n"
     ]
    }
   ],
   "source": [
    "# how to select individual columns\n",
    "x.select(\"passengerId\").show(10)"
   ]
  },
  {
   "cell_type": "code",
   "execution_count": 59,
   "id": "a23f7aaa",
   "metadata": {},
   "outputs": [
    {
     "name": "stdout",
     "output_type": "stream",
     "text": [
      "+------+--------------------+------+\n",
      "|Pclass|                Name|   Sex|\n",
      "+------+--------------------+------+\n",
      "|     3|Braund, Mr. Owen ...|  male|\n",
      "|     1|Cumings, Mrs. Joh...|female|\n",
      "|     3|Heikkinen, Miss. ...|female|\n",
      "|     1|Futrelle, Mrs. Ja...|female|\n",
      "|     3|Allen, Mr. Willia...|  male|\n",
      "|     3|    Moran, Mr. James|  male|\n",
      "|     1|McCarthy, Mr. Tim...|  male|\n",
      "|     3|Palsson, Master. ...|  male|\n",
      "|     3|Johnson, Mrs. Osc...|female|\n",
      "|     2|Nasser, Mrs. Nich...|female|\n",
      "+------+--------------------+------+\n",
      "only showing top 10 rows\n",
      "\n"
     ]
    }
   ],
   "source": [
    "# selecting multiple columns\n",
    "x.select(x.Pclass, x.Name, x.Sex).show(10)"
   ]
  },
  {
   "cell_type": "code",
   "execution_count": 63,
   "id": "fca83f78",
   "metadata": {},
   "outputs": [
    {
     "name": "stdout",
     "output_type": "stream",
     "text": [
      "+-----------+--------+-------+--------------------+------+----+-----+-----+----------------+-------+-----+--------+\n",
      "|PassengerId|Survived|P-Class|                Name|   Sex| Age|SibSp|Parch|          Ticket|   Fare|Cabin|Embarked|\n",
      "+-----------+--------+-------+--------------------+------+----+-----+-----+----------------+-------+-----+--------+\n",
      "|          1|       0|      3|Braund, Mr. Owen ...|  male|22.0|    1|    0|       A/5 21171|   7.25| null|       S|\n",
      "|          2|       1|      1|Cumings, Mrs. Joh...|female|38.0|    1|    0|        PC 17599|71.2833|  C85|       C|\n",
      "|          3|       1|      3|Heikkinen, Miss. ...|female|26.0|    0|    0|STON/O2. 3101282|  7.925| null|       S|\n",
      "|          4|       1|      1|Futrelle, Mrs. Ja...|female|35.0|    1|    0|          113803|   53.1| C123|       S|\n",
      "|          5|       0|      3|Allen, Mr. Willia...|  male|35.0|    0|    0|          373450|   8.05| null|       S|\n",
      "+-----------+--------+-------+--------------------+------+----+-----+-----+----------------+-------+-----+--------+\n",
      "only showing top 5 rows\n",
      "\n"
     ]
    }
   ],
   "source": [
    "# We use the withColumnRenamed function to rename a columm in PySpark\n",
    "df = x.withColumnRenamed('Pclass', 'P-Class')\n",
    "df.show(5)       "
   ]
  },
  {
   "cell_type": "code",
   "execution_count": 64,
   "id": "6bf56cdc",
   "metadata": {},
   "outputs": [
    {
     "name": "stdout",
     "output_type": "stream",
     "text": [
      "+--------+-----+\n",
      "|Embarked|count|\n",
      "+--------+-----+\n",
      "|       Q|   77|\n",
      "|       0|  418|\n",
      "|    null|    2|\n",
      "|       C|  168|\n",
      "|       S|  644|\n",
      "+--------+-----+\n",
      "\n"
     ]
    }
   ],
   "source": [
    "# Grouping By Columns\n",
    "# => Group By a single column\n",
    "# => Group By multiple columns\n",
    "df.groupBy('Embarked').count().show(5)"
   ]
  },
  {
   "cell_type": "code",
   "execution_count": 65,
   "id": "0e76cb6d",
   "metadata": {},
   "outputs": [
    {
     "name": "stdout",
     "output_type": "stream",
     "text": [
      "+--------+-----+\n",
      "|Survived|count|\n",
      "+--------+-----+\n",
      "|       1|  449|\n",
      "|       3|  218|\n",
      "|       2|   93|\n",
      "|       0|  549|\n",
      "+--------+-----+\n",
      "\n"
     ]
    }
   ],
   "source": [
    "df.groupBy('Survived').count().show(5)"
   ]
  },
  {
   "cell_type": "code",
   "execution_count": 67,
   "id": "44bcb460",
   "metadata": {},
   "outputs": [
    {
     "name": "stdout",
     "output_type": "stream",
     "text": [
      "+-----------+--------+-------+--------------------+------+----+-----+-----+---------+-----+--------+\n",
      "|PassengerId|Survived|P-Class|                Name|   Sex| Age|SibSp|Parch|   Ticket|Cabin|Embarked|\n",
      "+-----------+--------+-------+--------------------+------+----+-----+-----+---------+-----+--------+\n",
      "|          1|       0|      3|Braund, Mr. Owen ...|  male|22.0|    1|    0|A/5 21171| null|       S|\n",
      "|          2|       1|      1|Cumings, Mrs. Joh...|female|38.0|    1|    0| PC 17599|  C85|       C|\n",
      "+-----------+--------+-------+--------------------+------+----+-----+-----+---------+-----+--------+\n",
      "only showing top 2 rows\n",
      "\n"
     ]
    }
   ],
   "source": [
    "#Remove columns in PySpark\n",
    "df = df.drop('Fare')\n",
    "df.show(2)"
   ]
  },
  {
   "cell_type": "code",
   "execution_count": 71,
   "id": "9e5fa9e7",
   "metadata": {},
   "outputs": [
    {
     "name": "stdout",
     "output_type": "stream",
     "text": [
      "TOTAL COUNT => 1309\n"
     ]
    }
   ],
   "source": [
    "## DataFrame Operations on Rows\n",
    "## => 1. Filtering Rows\n",
    "## => 2. Get Distinct Rows\n",
    "## => 3. Sorting Rows\n",
    "## => 4. Union Dataframes\n",
    "\n",
    "# Filtering rows\n",
    "total_count = df.count()\n",
    "print(\"TOTAL COUNT => \" + str(total_count))"
   ]
  },
  {
   "cell_type": "code",
   "execution_count": 72,
   "id": "da701cfd",
   "metadata": {},
   "outputs": [
    {
     "name": "stdout",
     "output_type": "stream",
     "text": [
      "Filtered data on male sex count => 577\n"
     ]
    }
   ],
   "source": [
    "# filtering on rows\n",
    "sex_count_male = df.filter(col('Sex')=='male').count()\n",
    "print(\"Filtered data on male sex count => \" + str(sex_count_male))"
   ]
  },
  {
   "cell_type": "code",
   "execution_count": 73,
   "id": "6d744510",
   "metadata": {},
   "outputs": [
    {
     "name": "stdout",
     "output_type": "stream",
     "text": [
      "Filtered data on male sex count => 314\n"
     ]
    }
   ],
   "source": [
    "sex_count_female = df.filter(col('Sex')=='female').count()\n",
    "print(\"Filtered data on male sex count => \" + str(sex_count_female))"
   ]
  },
  {
   "cell_type": "code",
   "execution_count": 74,
   "id": "01fc5294",
   "metadata": {},
   "outputs": [
    {
     "name": "stdout",
     "output_type": "stream",
     "text": [
      "+-----------+--------+-------+--------------------+----+----+-----+-----+---------+-----+--------+\n",
      "|PassengerId|Survived|P-Class|                Name| Sex| Age|SibSp|Parch|   Ticket|Cabin|Embarked|\n",
      "+-----------+--------+-------+--------------------+----+----+-----+-----+---------+-----+--------+\n",
      "|          1|       0|      3|Braund, Mr. Owen ...|male|22.0|    1|    0|A/5 21171| null|       S|\n",
      "|          5|       0|      3|Allen, Mr. Willia...|male|35.0|    0|    0|   373450| null|       S|\n",
      "|          6|       0|      3|    Moran, Mr. James|male|null|    0|    0|   330877| null|       Q|\n",
      "|          7|       0|      1|McCarthy, Mr. Tim...|male|54.0|    0|    0|    17463|  E46|       S|\n",
      "+-----------+--------+-------+--------------------+----+----+-----+-----+---------+-----+--------+\n",
      "only showing top 4 rows\n",
      "\n"
     ]
    }
   ],
   "source": [
    "# now show the dataframes\n",
    "df_sex_filter = df.filter(col('sex')=='male').show(4)"
   ]
  },
  {
   "cell_type": "code",
   "execution_count": 76,
   "id": "e0b80bd3",
   "metadata": {},
   "outputs": [
    {
     "name": "stdout",
     "output_type": "stream",
     "text": [
      "+-----------+--------+-------+--------------------+------+----+-----+-----+--------+-----+--------+\n",
      "|PassengerId|Survived|P-Class|                Name|   Sex| Age|SibSp|Parch|  Ticket|Cabin|Embarked|\n",
      "+-----------+--------+-------+--------------------+------+----+-----+-----+--------+-----+--------+\n",
      "|          2|       1|      1|Cumings, Mrs. Joh...|female|38.0|    1|    0|PC 17599|  C85|       C|\n",
      "|          4|       1|      1|Futrelle, Mrs. Ja...|female|35.0|    1|    0|  113803| C123|       S|\n",
      "|         10|       1|      2|Nasser, Mrs. Nich...|female|14.0|    1|    0|  237736| null|       C|\n",
      "|         11|       1|      3|Sandstrom, Miss. ...|female| 4.0|    1|    1| PP 9549|   G6|       S|\n",
      "+-----------+--------+-------+--------------------+------+----+-----+-----+--------+-----+--------+\n",
      "only showing top 4 rows\n",
      "\n"
     ]
    }
   ],
   "source": [
    "# Filtering rows in PySpark based on Multiple conditions\n",
    "multiple_conditions_filters = df.filter((col('sex')=='female') & (col('SibSp')==1)).show(4)"
   ]
  }
 ],
 "metadata": {
  "kernelspec": {
   "display_name": "Python 3",
   "language": "python",
   "name": "python3"
  },
  "language_info": {
   "codemirror_mode": {
    "name": "ipython",
    "version": 3
   },
   "file_extension": ".py",
   "mimetype": "text/x-python",
   "name": "python",
   "nbconvert_exporter": "python",
   "pygments_lexer": "ipython3",
   "version": "3.8.8"
  }
 },
 "nbformat": 4,
 "nbformat_minor": 5
}
