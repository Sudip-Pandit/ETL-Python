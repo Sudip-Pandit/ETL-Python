{
 "cells": [
  {
   "cell_type": "code",
   "execution_count": 3,
   "id": "356a3a74",
   "metadata": {},
   "outputs": [],
   "source": [
    "import pyspark\n",
    "from pyspark.sql import SparkSession"
   ]
  },
  {
   "cell_type": "code",
   "execution_count": 5,
   "id": "8225bf82",
   "metadata": {},
   "outputs": [],
   "source": [
    "# set SparkContext and SparkSession\n",
    "spark = SparkSession.builder.appName(\"All pyspark ideas\") \\\n",
    ".getOrCreate()\n"
   ]
  },
  {
   "cell_type": "code",
   "execution_count": 7,
   "id": "2cf2a741",
   "metadata": {},
   "outputs": [],
   "source": [
    "# read the dataset\n",
    "df_pyspark = spark.read.option(\"header\", \"true\").csv(\"billionaires.csv\")"
   ]
  },
  {
   "cell_type": "code",
   "execution_count": 9,
   "id": "bfa08ace",
   "metadata": {},
   "outputs": [
    {
     "name": "stdout",
     "output_type": "stream",
     "text": [
      "+-------+-------------------+------------------+------------------+------------------+--------------------+--------------------+--------------+------------+------------------+-------------------+--------------------+---------------------+--------------------+------------------+-----------------+------------------------+-------------------+------------------------+-------------------+--------------------+----------------------+------------------------+\n",
      "|summary|               name|              rank|              year|   company.founded|        company.name|company.relationship|company.sector|company.type|  demographics.age|demographics.gender|location.citizenship|location.country code|        location.gdp|   location.region|      wealth.type|wealth.worth in billions|wealth.how.category|wealth.how.from emerging|wealth.how.industry|wealth.how.inherited|wealth.how.was founder|wealth.how.was political|\n",
      "+-------+-------------------+------------------+------------------+------------------+--------------------+--------------------+--------------+------------+------------------+-------------------+--------------------+---------------------+--------------------+------------------+-----------------+------------------------+-------------------+------------------------+-------------------+--------------------+----------------------+------------------------+\n",
      "|  count|               2614|              2614|              2614|              2614|                2576|                2568|          2591|        2578|              2614|               2580|                2614|                 2614|                2614|              2614|             2592|                    2614|               2613|                    2614|               2613|                2614|                  2614|                    2614|\n",
      "|   mean|               null|  599.672532517215|2008.4116296863044| 1924.711935730681|                null|                null|          null|        null| 53.34123947972456|               null|                null|                 null|1.769103031873178...|               0.0|             null|       3.531943381790374|                0.0|                    null|                0.0|                null|                  null|                    null|\n",
      "| stddev|               null|467.88569543292505| 7.483598252719561|243.77654572014816|                null|                null|          null|        null|25.333320349545115|               null|                null|                 null|3.547082560202363...|              null|             null|        5.08881256191712|                0.0|                    null|                0.0|                null|                  null|                    null|\n",
      "|    min|A Jerrold Perenchio|                 1|              1996|                 0|            Facebook|                 CEO|  Oil refining|    acquired|               -42|             female|             Algeria|                  AGO|                   0|                 0|        executive|                       1|                  0|                    TRUE|                  0|      3rd generation|                  TRUE|                    TRUE|\n",
      "|    max| Zygmunt Solorz-Zak|                99|              2014|              2012|von Thurn and Tax...|       vice-chairman|       zippers|  subsidiary|                98|     married couple|             Vietnam|                  ZAF|         98200000000|Sub-Saharan Africa|self-made finance|                     9.9|             energy|                    TRUE|           services|        spouse/widow|                  TRUE|                    TRUE|\n",
      "+-------+-------------------+------------------+------------------+------------------+--------------------+--------------------+--------------+------------+------------------+-------------------+--------------------+---------------------+--------------------+------------------+-----------------+------------------------+-------------------+------------------------+-------------------+--------------------+----------------------+------------------------+\n",
      "\n"
     ]
    }
   ],
   "source": [
    "# describe the dataset\n",
    "df_pyspark.describe().show()"
   ]
  },
  {
   "cell_type": "code",
   "execution_count": 10,
   "id": "86290cb4",
   "metadata": {},
   "outputs": [
    {
     "data": {
      "text/plain": [
       "pyspark.sql.dataframe.DataFrame"
      ]
     },
     "execution_count": 10,
     "metadata": {},
     "output_type": "execute_result"
    }
   ],
   "source": [
    "# type of the dataframe\n",
    "type(df_pyspark)"
   ]
  },
  {
   "cell_type": "code",
   "execution_count": 11,
   "id": "b6e46457",
   "metadata": {},
   "outputs": [
    {
     "name": "stdout",
     "output_type": "stream",
     "text": [
      "root\n",
      " |-- name: string (nullable = true)\n",
      " |-- rank: string (nullable = true)\n",
      " |-- year: string (nullable = true)\n",
      " |-- company.founded: string (nullable = true)\n",
      " |-- company.name: string (nullable = true)\n",
      " |-- company.relationship: string (nullable = true)\n",
      " |-- company.sector: string (nullable = true)\n",
      " |-- company.type: string (nullable = true)\n",
      " |-- demographics.age: string (nullable = true)\n",
      " |-- demographics.gender: string (nullable = true)\n",
      " |-- location.citizenship: string (nullable = true)\n",
      " |-- location.country code: string (nullable = true)\n",
      " |-- location.gdp: string (nullable = true)\n",
      " |-- location.region: string (nullable = true)\n",
      " |-- wealth.type: string (nullable = true)\n",
      " |-- wealth.worth in billions: string (nullable = true)\n",
      " |-- wealth.how.category: string (nullable = true)\n",
      " |-- wealth.how.from emerging: string (nullable = true)\n",
      " |-- wealth.how.industry: string (nullable = true)\n",
      " |-- wealth.how.inherited: string (nullable = true)\n",
      " |-- wealth.how.was founder: string (nullable = true)\n",
      " |-- wealth.how.was political: string (nullable = true)\n",
      "\n"
     ]
    }
   ],
   "source": [
    "# print the schemas\n",
    "df_pyspark.printSchema()"
   ]
  },
  {
   "cell_type": "code",
   "execution_count": 14,
   "id": "264474bb",
   "metadata": {},
   "outputs": [],
   "source": [
    "# let's read the dataset from another way\n",
    "df= spark.read.csv(\"billionaires.csv\", header=True, inferSchema=True)"
   ]
  },
  {
   "cell_type": "code",
   "execution_count": 20,
   "id": "53324505",
   "metadata": {},
   "outputs": [
    {
     "name": "stdout",
     "output_type": "stream",
     "text": [
      "+--------------------+----+----+---------------+--------------------+--------------------+---------------+-------------+----------------+-------------------+--------------------+---------------------+------------+---------------+--------------------+------------------------+-------------------+------------------------+-------------------+--------------------+----------------------+------------------------+\n",
      "|                name|rank|year|company.founded|        company.name|company.relationship| company.sector| company.type|demographics.age|demographics.gender|location.citizenship|location.country code|location.gdp|location.region|         wealth.type|wealth.worth in billions|wealth.how.category|wealth.how.from emerging|wealth.how.industry|wealth.how.inherited|wealth.how.was founder|wealth.how.was political|\n",
      "+--------------------+----+----+---------------+--------------------+--------------------+---------------+-------------+----------------+-------------------+--------------------+---------------------+------------+---------------+--------------------+------------------------+-------------------+------------------------+-------------------+--------------------+----------------------+------------------------+\n",
      "|          Bill Gates|   1|1996|           1975|           Microsoft|             founder|       Software|          new|              40|               male|       United States|                  USA|      8.1E12|  North America| founder non-finance|                    18.5|        New Sectors|                    true|Technology-Computer|       not inherited|                  true|                    true|\n",
      "|          Bill Gates|   1|2001|           1975|           Microsoft|             founder|       Software|          new|              45|               male|       United States|                  USA|     1.06E13|  North America| founder non-finance|                    58.7|        New Sectors|                    true|Technology-Computer|       not inherited|                  true|                    true|\n",
      "|          Bill Gates|   1|2014|           1975|           Microsoft|             founder|       Software|          new|              58|               male|       United States|                  USA|         0.0|  North America| founder non-finance|                    76.0|        New Sectors|                    true|Technology-Computer|       not inherited|                  true|                    true|\n",
      "|      Warren Buffett|   2|1996|           1962|  Berkshire Hathaway|             founder|        Finance|          new|              65|               male|       United States|                  USA|      8.1E12|  North America| founder non-finance|                    15.0|     Traded Sectors|                    true|           Consumer|       not inherited|                  true|                    true|\n",
      "|      Warren Buffett|   2|2001|           1962|  Berkshire Hathaway|             founder|        Finance|          new|              70|               male|       United States|                  USA|     1.06E13|  North America| founder non-finance|                    32.3|     Traded Sectors|                    true|           Consumer|       not inherited|                  true|                    true|\n",
      "|    Carlos Slim Helu|   2|2014|           1990|              Telmex|             founder| Communications|privatization|              74|               male|              Mexico|                  MEX|         0.0|  Latin America|privatized and re...|                    72.0| Non-Traded Sectors|                    true|              Media|       not inherited|                  true|                    true|\n",
      "|Oeri Hoffman and ...|   3|1996|           1896|F. Hoffmann-La Roche|                null|pharmaceuticals|          new|               0|               null|         Switzerland|                  CHE|      3.3E11|         Europe|           inherited|                    13.1|        New Sectors|                    true| Technology-Medical|      3rd generation|                  true|                    true|\n",
      "|          Paul Allen|   3|2001|           1975|           Microsoft|             founder|     technology|          new|              48|               male|       United States|                  USA|     1.06E13|  North America| founder non-finance|                    30.4|        New Sectors|                    true|Technology-Computer|       not inherited|                  true|                    true|\n",
      "|      Amancio Ortega|   3|2014|           1975|                Zara|             founder|        Fashion|          new|              77|               male|               Spain|                  ESP|         0.0|         Europe| founder non-finance|                    64.0| Non-Traded Sectors|                    true| Retail, Restaurant|       not inherited|                  true|                    true|\n",
      "|        Lee Shau Kee|   4|1996|           1976|Henderson Land De...|    founder/chairman|    real estate|          new|              68|               male|           Hong Kong|                  HKG|      1.6E11|      East Asia|   self-made finance|                    12.7|          Financial|                    true|        Real Estate|       not inherited|                  true|                    true|\n",
      "+--------------------+----+----+---------------+--------------------+--------------------+---------------+-------------+----------------+-------------------+--------------------+---------------------+------------+---------------+--------------------+------------------------+-------------------+------------------------+-------------------+--------------------+----------------------+------------------------+\n",
      "only showing top 10 rows\n",
      "\n"
     ]
    }
   ],
   "source": [
    "df.show(10)       "
   ]
  },
  {
   "cell_type": "code",
   "execution_count": 21,
   "id": "ab278812",
   "metadata": {},
   "outputs": [
    {
     "data": {
      "text/plain": [
       "pyspark.sql.dataframe.DataFrame"
      ]
     },
     "execution_count": 21,
     "metadata": {},
     "output_type": "execute_result"
    }
   ],
   "source": [
    "type(df)"
   ]
  },
  {
   "cell_type": "code",
   "execution_count": 23,
   "id": "af0e0a26",
   "metadata": {},
   "outputs": [
    {
     "name": "stdout",
     "output_type": "stream",
     "text": [
      "+--------------+----+\n",
      "|          name|rank|\n",
      "+--------------+----+\n",
      "|    Bill Gates|   1|\n",
      "|    Bill Gates|   1|\n",
      "|    Bill Gates|   1|\n",
      "|Warren Buffett|   2|\n",
      "|Warren Buffett|   2|\n",
      "+--------------+----+\n",
      "only showing top 5 rows\n",
      "\n"
     ]
    }
   ],
   "source": [
    "#print some of the columns\n",
    "df.select(\"name\", \"rank\").show(5)"
   ]
  },
  {
   "cell_type": "code",
   "execution_count": 24,
   "id": "74ff5e32",
   "metadata": {},
   "outputs": [
    {
     "data": {
      "text/plain": [
       "[('name', 'string'),\n",
       " ('rank', 'int'),\n",
       " ('year', 'int'),\n",
       " ('company.founded', 'int'),\n",
       " ('company.name', 'string'),\n",
       " ('company.relationship', 'string'),\n",
       " ('company.sector', 'string'),\n",
       " ('company.type', 'string'),\n",
       " ('demographics.age', 'int'),\n",
       " ('demographics.gender', 'string'),\n",
       " ('location.citizenship', 'string'),\n",
       " ('location.country code', 'string'),\n",
       " ('location.gdp', 'double'),\n",
       " ('location.region', 'string'),\n",
       " ('wealth.type', 'string'),\n",
       " ('wealth.worth in billions', 'double'),\n",
       " ('wealth.how.category', 'string'),\n",
       " ('wealth.how.from emerging', 'boolean'),\n",
       " ('wealth.how.industry', 'string'),\n",
       " ('wealth.how.inherited', 'string'),\n",
       " ('wealth.how.was founder', 'boolean'),\n",
       " ('wealth.how.was political', 'boolean')]"
      ]
     },
     "execution_count": 24,
     "metadata": {},
     "output_type": "execute_result"
    }
   ],
   "source": [
    "# techniques to check the data types\n",
    "df.dtypes"
   ]
  },
  {
   "cell_type": "code",
   "execution_count": 33,
   "id": "0e69a7ec",
   "metadata": {},
   "outputs": [],
   "source": [
    "# adding columns in the dataframe\n",
    "df2= df.withColumn(\"Year after 10 years\", df['Year']+10)"
   ]
  },
  {
   "cell_type": "code",
   "execution_count": 31,
   "id": "af544b49",
   "metadata": {},
   "outputs": [
    {
     "name": "stdout",
     "output_type": "stream",
     "text": [
      "+----+-------------------+\n",
      "|year|Year after 10 years|\n",
      "+----+-------------------+\n",
      "|1996|               2006|\n",
      "|2001|               2011|\n",
      "|2014|               2024|\n",
      "|1996|               2006|\n",
      "|2001|               2011|\n",
      "+----+-------------------+\n",
      "only showing top 5 rows\n",
      "\n"
     ]
    }
   ],
   "source": [
    "df2.select(\"year\", \"Year after 10 years\").show(5)"
   ]
  },
  {
   "cell_type": "code",
   "execution_count": 34,
   "id": "e4d1b2cd",
   "metadata": {},
   "outputs": [],
   "source": [
    "# Let's rename the columns\n",
    "df3 = df2.withColumnRenamed('Year', 'Yrs')"
   ]
  },
  {
   "cell_type": "code",
   "execution_count": 36,
   "id": "cd4fad05",
   "metadata": {},
   "outputs": [
    {
     "name": "stdout",
     "output_type": "stream",
     "text": [
      "+----+\n",
      "| yrs|\n",
      "+----+\n",
      "|1996|\n",
      "|2001|\n",
      "|2014|\n",
      "|1996|\n",
      "|2001|\n",
      "+----+\n",
      "only showing top 5 rows\n",
      "\n"
     ]
    }
   ],
   "source": [
    "df3.select(\"yrs\").show(5)"
   ]
  },
  {
   "cell_type": "markdown",
   "id": "e0750326",
   "metadata": {},
   "source": [
    "### Filter Operations"
   ]
  },
  {
   "cell_type": "code",
   "execution_count": 37,
   "id": "d0514a56",
   "metadata": {},
   "outputs": [
    {
     "data": {
      "text/plain": [
       "DataFrame[name: string, rank: int, company.founded: int, company.name: string, company.relationship: string, company.sector: string, company.type: string, demographics.age: int, demographics.gender: string, location.citizenship: string, location.country code: string, location.gdp: double, location.region: string, wealth.type: string, wealth.worth in billions: double, wealth.how.category: string, wealth.how.from emerging: boolean, wealth.how.industry: string, wealth.how.inherited: string, wealth.how.was founder: boolean, wealth.how.was political: boolean, Year after 10 years: int]"
      ]
     },
     "execution_count": 37,
     "metadata": {},
     "output_type": "execute_result"
    }
   ],
   "source": [
    "# drop the columns\n",
    "df3.drop(\"Yrs\")"
   ]
  },
  {
   "cell_type": "code",
   "execution_count": 41,
   "id": "c29e0d90",
   "metadata": {},
   "outputs": [
    {
     "name": "stdout",
     "output_type": "stream",
     "text": [
      "+--------------------+----+----+---------------+--------------------+--------------------+--------------------+-------------+----------------+-------------------+--------------------+---------------------+------------+--------------------+--------------------+------------------------+-------------------+------------------------+--------------------+--------------------+----------------------+------------------------+-------------------+\n",
      "|                name|rank| Yrs|company.founded|        company.name|company.relationship|      company.sector| company.type|demographics.age|demographics.gender|location.citizenship|location.country code|location.gdp|     location.region|         wealth.type|wealth.worth in billions|wealth.how.category|wealth.how.from emerging| wealth.how.industry|wealth.how.inherited|wealth.how.was founder|wealth.how.was political|Year after 10 years|\n",
      "+--------------------+----+----+---------------+--------------------+--------------------+--------------------+-------------+----------------+-------------------+--------------------+---------------------+------------+--------------------+--------------------+------------------------+-------------------+------------------------+--------------------+--------------------+----------------------+------------------------+-------------------+\n",
      "|          Bill Gates|   1|1996|           1975|           Microsoft|             founder|            Software|          new|              40|               male|       United States|                  USA|      8.1E12|       North America| founder non-finance|                    18.5|        New Sectors|                    true| Technology-Computer|       not inherited|                  true|                    true|               2006|\n",
      "|          Bill Gates|   1|2001|           1975|           Microsoft|             founder|            Software|          new|              45|               male|       United States|                  USA|     1.06E13|       North America| founder non-finance|                    58.7|        New Sectors|                    true| Technology-Computer|       not inherited|                  true|                    true|               2011|\n",
      "|          Bill Gates|   1|2014|           1975|           Microsoft|             founder|            Software|          new|              58|               male|       United States|                  USA|         0.0|       North America| founder non-finance|                    76.0|        New Sectors|                    true| Technology-Computer|       not inherited|                  true|                    true|               2024|\n",
      "|      Warren Buffett|   2|1996|           1962|  Berkshire Hathaway|             founder|             Finance|          new|              65|               male|       United States|                  USA|      8.1E12|       North America| founder non-finance|                    15.0|     Traded Sectors|                    true|            Consumer|       not inherited|                  true|                    true|               2006|\n",
      "|      Warren Buffett|   2|2001|           1962|  Berkshire Hathaway|             founder|             Finance|          new|              70|               male|       United States|                  USA|     1.06E13|       North America| founder non-finance|                    32.3|     Traded Sectors|                    true|            Consumer|       not inherited|                  true|                    true|               2011|\n",
      "|    Carlos Slim Helu|   2|2014|           1990|              Telmex|             founder|      Communications|privatization|              74|               male|              Mexico|                  MEX|         0.0|       Latin America|privatized and re...|                    72.0| Non-Traded Sectors|                    true|               Media|       not inherited|                  true|                    true|               2024|\n",
      "|Oeri Hoffman and ...|   3|1996|           1896|F. Hoffmann-La Roche|                null|     pharmaceuticals|          new|               0|               null|         Switzerland|                  CHE|      3.3E11|              Europe|           inherited|                    13.1|        New Sectors|                    true|  Technology-Medical|      3rd generation|                  true|                    true|               2006|\n",
      "|          Paul Allen|   3|2001|           1975|           Microsoft|             founder|          technology|          new|              48|               male|       United States|                  USA|     1.06E13|       North America| founder non-finance|                    30.4|        New Sectors|                    true| Technology-Computer|       not inherited|                  true|                    true|               2011|\n",
      "|      Amancio Ortega|   3|2014|           1975|                Zara|             founder|             Fashion|          new|              77|               male|               Spain|                  ESP|         0.0|              Europe| founder non-finance|                    64.0| Non-Traded Sectors|                    true|  Retail, Restaurant|       not inherited|                  true|                    true|               2024|\n",
      "|        Lee Shau Kee|   4|1996|           1976|Henderson Land De...|    founder/chairman|         real estate|          new|              68|               male|           Hong Kong|                  HKG|      1.6E11|           East Asia|   self-made finance|                    12.7|          Financial|                    true|         Real Estate|       not inherited|                  true|                    true|               2006|\n",
      "|       Larry Ellison|   4|2001|           1977|              Oracle|             founder|            software|          new|              56|               male|       United States|                  USA|     1.06E13|       North America| founder non-finance|                    26.0|        New Sectors|                    true| Technology-Computer|       not inherited|                  true|                    true|               2011|\n",
      "|      Warren Buffett|   4|2014|           1839|  Berkshire Hathaway|             founder|             Finance|      aquired|              83|               male|       United States|                  USA|         0.0|       North America| founder non-finance|                    58.2|     Traded Sectors|                    true|            Consumer|       not inherited|                  true|                    true|               2024|\n",
      "|        Tsai Wan-lin|   5|1996|           1962|      Lin Yuan Group|             founder|banking and insur...|          new|              71|               male|              Taiwan|               Taiwan|         0.0|           East Asia|   self-made finance|                    12.2|          Financial|                    true|         Hedge funds|       not inherited|                  true|                    true|               2006|\n",
      "|Theo and Karl Alb...|   5|2001|           1913|                Aldi|             founder|           groceries|          new|               0|               male|             Germany|                  DEU|     1.95E12|              Europe| founder non-finance|                    25.0| Non-Traded Sectors|                    true|  Retail, Restaurant|       not inherited|                  true|                    true|               2011|\n",
      "|       Larry Ellison|   5|2014|           1977|              Oracle|             founder|            software|          new|              69|               male|       United States|                  USA|         0.0|       North America| founder non-finance|                    48.0|        New Sectors|                    true| Technology-Computer|       not inherited|                  true|                    true|               2024|\n",
      "|Walter Thomas and...|   6|1996|           1963|Sun Hung Kai Prop...|            Relation|         real estate|          new|               0|               male|           Hong Kong|                  HKG|      1.6E11|           East Asia|           inherited|                    11.2|          Financial|                    true|         Real Estate|              father|                  true|                    true|               2006|\n",
      "|Prince Alwaleed B...|   6|2001|           1980|Kingdom Holding C...|             founder|construction/real...|          new|              44|               male|        Saudi Arabia|                  SAU|     1.83E11|Middle East/North...|privatized and re...|                    20.0|          Financial|                    true|    Money Management|       not inherited|                  true|                    true|               2011|\n",
      "|        Charles Koch|   6|2014|           1940|     Koch industries|            relation|        Oil refining|          new|              78|               male|       United States|                  USA|         0.0|       North America|           inherited|                    40.0|          Financial|                    true|Diversified finan...|              father|                  true|                    true|               2024|\n",
      "|          David Koch|   6|2014|           1940|     Koch industries|            relation|        Oil refining|          new|              73|               male|       United States|                  USA|         0.0|       North America|           inherited|                    40.0|          Financial|                    true|Diversified finan...|              father|                  true|                    true|               2024|\n",
      "|         Li Ka-shing|   7|1996|           1971|         Cheung king|             founder|         real estate|          new|              67|               male|           Hong Kong|                  HKG|      1.6E11|           East Asia|   self-made finance|                    10.6|          Financial|                    true|         Real Estate|       not inherited|                  true|                    true|               2006|\n",
      "+--------------------+----+----+---------------+--------------------+--------------------+--------------------+-------------+----------------+-------------------+--------------------+---------------------+------------+--------------------+--------------------+------------------------+-------------------+------------------------+--------------------+--------------------+----------------------+------------------------+-------------------+\n",
      "only showing top 20 rows\n",
      "\n"
     ]
    }
   ],
   "source": [
    "df3.show()"
   ]
  },
  {
   "cell_type": "code",
   "execution_count": null,
   "id": "2c3b9f5a",
   "metadata": {},
   "outputs": [],
   "source": []
  }
 ],
 "metadata": {
  "kernelspec": {
   "display_name": "Python 3",
   "language": "python",
   "name": "python3"
  },
  "language_info": {
   "codemirror_mode": {
    "name": "ipython",
    "version": 3
   },
   "file_extension": ".py",
   "mimetype": "text/x-python",
   "name": "python",
   "nbconvert_exporter": "python",
   "pygments_lexer": "ipython3",
   "version": "3.8.8"
  }
 },
 "nbformat": 4,
 "nbformat_minor": 5
}
