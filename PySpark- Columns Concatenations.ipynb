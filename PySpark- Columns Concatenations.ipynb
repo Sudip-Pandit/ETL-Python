{
 "cells": [
  {
   "cell_type": "markdown",
   "id": "835e7663",
   "metadata": {},
   "source": [
    "# Column Concatenation in PySpark: -\n",
    "##### use concat() function in order to concatenation of two columns\n",
    "### we have at least four possibilities \n",
    "##### 1. concatenate two columns without space\n",
    "##### 2. concatenate columns with single space\n",
    "##### 3. concatenate columns with (\"-\")\n",
    "##### 4. concatenate columns with numerica and catagorical columns\n"
   ]
  },
  {
   "cell_type": "code",
   "execution_count": 1,
   "id": "a26da828",
   "metadata": {},
   "outputs": [],
   "source": [
    "import findspark\n",
    "findspark.init()\n",
    "import pyspark\n",
    "from pyspark.sql import SparkSession\n",
    "from pyspark import SparkContext, SparkConf\n",
    "conf = pyspark.SparkConf().setAppName(\"Typecast String to Date and Date to String\").setMaster(\"local\")\n",
    "from pyspark.sql import SQLContext\n",
    "sc = pyspark.SparkContext(conf=conf)\n",
    "spark = SparkSession(sc)\n",
    "sql_c = SQLContext(sc)"
   ]
  },
  {
   "cell_type": "code",
   "execution_count": 25,
   "id": "8a2407a6",
   "metadata": {},
   "outputs": [
    {
     "name": "stdout",
     "output_type": "stream",
     "text": [
      "+---------+-----------+--------+----------+---------+\n",
      "|     Date|Description|Deposits|Withdrawls|  Balance|\n",
      "+---------+-----------+--------+----------+---------+\n",
      "|21-Aug-20|   Reversal|       0| 10,612.64|53,063.19|\n",
      "|21-Aug-20| Commission|       0| 26,531.60|26,531.60|\n",
      "|21-Aug-20| Debit Card|       0|  8,843.87|17,687.73|\n",
      "+---------+-----------+--------+----------+---------+\n",
      "only showing top 3 rows\n",
      "\n"
     ]
    }
   ],
   "source": [
    "df = sql_c.read.csv('transaction.csv', header=True)\n",
    "df.show(3)"
   ]
  },
  {
   "cell_type": "code",
   "execution_count": 26,
   "id": "0c494c1f",
   "metadata": {},
   "outputs": [
    {
     "name": "stdout",
     "output_type": "stream",
     "text": [
      "+---------+-----------+---------+----------+---------+-----------------------+\n",
      "|     Date|Description| Deposits|Withdrawls|  Balance|Deposits verses Balance|\n",
      "+---------+-----------+---------+----------+---------+-----------------------+\n",
      "|21-Aug-20|   Reversal|        0| 10,612.64|53,063.19|            0 53,063.19|\n",
      "|21-Aug-20| Commission|        0| 26,531.60|26,531.60|            0 26,531.60|\n",
      "|21-Aug-20| Debit Card|        0|  8,843.87|17,687.73|            0 17,687.73|\n",
      "|21-Aug-20|       Cash|23,475.67|         0|41,163.40|    23,475.67 41,163.40|\n",
      "|21-Aug-20|   Interest|        0|  5,145.43|36,017.98|            0 36,017.98|\n",
      "+---------+-----------+---------+----------+---------+-----------------------+\n",
      "only showing top 5 rows\n",
      "\n"
     ]
    }
   ],
   "source": [
    "# Concatenate two columns in pyspark with single space\n",
    "from pyspark.sql.functions import concat, lit, col\n",
    "df1=df.select(\"*\", concat(col(\"Deposits\"),lit(\" \"),col(\"Balance\")).alias(\"Deposits verses Balance\"))\n",
    "df1.show(5)"
   ]
  },
  {
   "cell_type": "code",
   "execution_count": 27,
   "id": "42913992",
   "metadata": {},
   "outputs": [],
   "source": [
    "# Concatenate columns in pyspark with single space\n",
    "from pyspark.sql import functions as F"
   ]
  },
  {
   "cell_type": "code",
   "execution_count": 28,
   "id": "8af0d846",
   "metadata": {},
   "outputs": [
    {
     "name": "stdout",
     "output_type": "stream",
     "text": [
      "+---------+-----------+---------+----------+---------+--------------+\n",
      "|     Date|Description| Deposits|Withdrawls|  Balance| joined_column|\n",
      "+---------+-----------+---------+----------+---------+--------------+\n",
      "|21-Aug-20|   Reversal|        0| 10,612.64|53,063.19|    Reversal 0|\n",
      "|21-Aug-20| Commission|        0| 26,531.60|26,531.60|  Commission 0|\n",
      "|21-Aug-20| Debit Card|        0|  8,843.87|17,687.73|  Debit Card 0|\n",
      "|21-Aug-20|       Cash|23,475.67|         0|41,163.40|Cash 23,475.67|\n",
      "|21-Aug-20|   Interest|        0|  5,145.43|36,017.98|    Interest 0|\n",
      "+---------+-----------+---------+----------+---------+--------------+\n",
      "only showing top 5 rows\n",
      "\n"
     ]
    }
   ],
   "source": [
    "df2 = df.withColumn('joined_column', F.concat(F.col('Description'),F.lit(' '),F.col('Deposits')))\n",
    "df2.show(5)"
   ]
  },
  {
   "cell_type": "code",
   "execution_count": 29,
   "id": "eeb989b2",
   "metadata": {},
   "outputs": [
    {
     "name": "stdout",
     "output_type": "stream",
     "text": [
      "+---------+-----------+---------+----------+---------+-------------------+\n",
      "|     Date|Description| Deposits|Withdrawls|  Balance|Description_Balance|\n",
      "+---------+-----------+---------+----------+---------+-------------------+\n",
      "|21-Aug-20|   Reversal|        0| 10,612.64|53,063.19|  Reversal53,063.19|\n",
      "|21-Aug-20| Commission|        0| 26,531.60|26,531.60|Commission26,531.60|\n",
      "|21-Aug-20| Debit Card|        0|  8,843.87|17,687.73|Debit Card17,687.73|\n",
      "|21-Aug-20|       Cash|23,475.67|         0|41,163.40|      Cash41,163.40|\n",
      "|21-Aug-20|   Interest|        0|  5,145.43|36,017.98|  Interest36,017.98|\n",
      "+---------+-----------+---------+----------+---------+-------------------+\n",
      "only showing top 5 rows\n",
      "\n"
     ]
    }
   ],
   "source": [
    "# Concatenate two columns without space\n",
    "df3=df.select(\"*\", concat(col(\"Description\"),col(\"Balance\")).alias(\"Description_Balance\"))\n",
    "df3.show(5)\n"
   ]
  },
  {
   "cell_type": "code",
   "execution_count": 31,
   "id": "3a7629ac",
   "metadata": {},
   "outputs": [
    {
     "name": "stdout",
     "output_type": "stream",
     "text": [
      "+---------+-----------+---------+----------+---------+--------------------+\n",
      "|     Date|Description| Deposits|Withdrawls|  Balance|Description-Deposits|\n",
      "+---------+-----------+---------+----------+---------+--------------------+\n",
      "|21-Aug-20|   Reversal|        0| 10,612.64|53,063.19|          Reversal-0|\n",
      "|21-Aug-20| Commission|        0| 26,531.60|26,531.60|        Commission-0|\n",
      "|21-Aug-20| Debit Card|        0|  8,843.87|17,687.73|        Debit Card-0|\n",
      "|21-Aug-20|       Cash|23,475.67|         0|41,163.40|      Cash-23,475.67|\n",
      "|21-Aug-20|   Interest|        0|  5,145.43|36,017.98|          Interest-0|\n",
      "+---------+-----------+---------+----------+---------+--------------------+\n",
      "only showing top 5 rows\n",
      "\n"
     ]
    }
   ],
   "source": [
    "# Concatenate two columns with hyphen\n",
    "df4=df.select(\"*\", concat(col(\"Description\"),lit(\"-\"),col(\"Deposits\")).alias(\"Description-Deposits\"))\n",
    "df4.show(5)"
   ]
  }
 ],
 "metadata": {
  "kernelspec": {
   "display_name": "Python 3",
   "language": "python",
   "name": "python3"
  },
  "language_info": {
   "codemirror_mode": {
    "name": "ipython",
    "version": 3
   },
   "file_extension": ".py",
   "mimetype": "text/x-python",
   "name": "python",
   "nbconvert_exporter": "python",
   "pygments_lexer": "ipython3",
   "version": "3.8.8"
  }
 },
 "nbformat": 4,
 "nbformat_minor": 5
}
