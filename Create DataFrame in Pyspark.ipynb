{
 "cells": [
  {
   "cell_type": "code",
   "execution_count": 1,
   "id": "edb70109",
   "metadata": {},
   "outputs": [],
   "source": [
    "import pandas as pd\n",
    "import numpy as np"
   ]
  },
  {
   "cell_type": "code",
   "execution_count": 3,
   "id": "ddc02e47",
   "metadata": {},
   "outputs": [
    {
     "name": "stdout",
     "output_type": "stream",
     "text": [
      "Collecting pyspark\n",
      "  Downloading pyspark-3.1.2.tar.gz (212.4 MB)\n",
      "Collecting py4j==0.10.9\n",
      "  Downloading py4j-0.10.9-py2.py3-none-any.whl (198 kB)\n",
      "Building wheels for collected packages: pyspark\n",
      "  Building wheel for pyspark (setup.py): started\n",
      "  Building wheel for pyspark (setup.py): finished with status 'done'\n",
      "  Created wheel for pyspark: filename=pyspark-3.1.2-py2.py3-none-any.whl size=212880768 sha256=be21345003ff1fd14a9c9d829c2ed3c7bbb2ee81ebf0626a449303bad0a3bf47\n",
      "  Stored in directory: c:\\users\\sudip\\appdata\\local\\pip\\cache\\wheels\\df\\88\\9e\\58ef1f74892fef590330ca0830b5b6d995ba29b44f977b3926\n",
      "Successfully built pyspark\n",
      "Installing collected packages: py4j, pyspark\n",
      "Successfully installed py4j-0.10.9 pyspark-3.1.2\n"
     ]
    }
   ],
   "source": [
    "!pip install pyspark"
   ]
  },
  {
   "cell_type": "code",
   "execution_count": 4,
   "id": "ac7e2c3a",
   "metadata": {},
   "outputs": [],
   "source": [
    "from pyspark.sql import SparkSession\n",
    "spark = SparkSession.builder\\\n",
    "        .appName('FirstDemo')\\\n",
    "        .master(\"local[*]\")\\\n",
    "        .getOrCreate()"
   ]
  },
  {
   "cell_type": "code",
   "execution_count": 11,
   "id": "64d44f30",
   "metadata": {},
   "outputs": [
    {
     "data": {
      "text/html": [
       "\n",
       "            <div>\n",
       "                <p><b>SparkSession - in-memory</b></p>\n",
       "                \n",
       "        <div>\n",
       "            <p><b>SparkContext</b></p>\n",
       "\n",
       "            <p><a href=\"http://LAPTOP-84FU76OH:4040\">Spark UI</a></p>\n",
       "\n",
       "            <dl>\n",
       "              <dt>Version</dt>\n",
       "                <dd><code>v3.1.2</code></dd>\n",
       "              <dt>Master</dt>\n",
       "                <dd><code>local[*]</code></dd>\n",
       "              <dt>AppName</dt>\n",
       "                <dd><code>FirstDemo</code></dd>\n",
       "            </dl>\n",
       "        </div>\n",
       "        \n",
       "            </div>\n",
       "        "
      ],
      "text/plain": [
       "<pyspark.sql.session.SparkSession at 0x20151e693a0>"
      ]
     },
     "execution_count": 11,
     "metadata": {},
     "output_type": "execute_result"
    }
   ],
   "source": [
    "spark"
   ]
  },
  {
   "cell_type": "code",
   "execution_count": null,
   "id": "697e052b",
   "metadata": {},
   "outputs": [],
   "source": [
    "# Creation of DataFrame in PySpark:\n",
    "# The following are some ways to create dataframe in pyspark with spark sql:\n",
    "# From a list of values, from a list of tuples or from a dictionary. \n",
    "# The other ways to create dataframe are from spark RDD and from a pandas dataframe\n",
    "# but the dataframe generated from pandas dataframe is only working with the python API\n",
    "# Dataframe is the core object for storing data which consists of rows and columns\n"
   ]
  },
  {
   "cell_type": "code",
   "execution_count": null,
   "id": "fe4e77a6",
   "metadata": {},
   "outputs": [],
   "source": [
    "# Creation of dataframe in pandas:\n",
    "# In pandas, DF is a data structure that contains two dimensional data.\n",
    "# from csv or excel file\n",
    "# from list: List is a collection data types, which is mutuable and allows duplicates values. \n",
    "# List is represented by collection of data points in square brackets\n",
    "# from dictionary- Keys representing the columns name and rows as values\n",
    "# from numpy arrays- Dataframe is always two dimesnional structure so we can create DF by 2-dimensional numpy arrays."
   ]
  },
  {
   "cell_type": "code",
   "execution_count": 18,
   "id": "4667bfe7",
   "metadata": {},
   "outputs": [],
   "source": [
    "# create the dataframe\n",
    "header = [\"state\", \"location\", \"sell_price\"]\n",
    "data = map(lambda r: (r[0], r[1], float(r[2])),\n",
    "map(lambda x: x.split(\",\"),\n",
    "[\"London, East, 200.00\", \"Nebraska, West, 400.11\", \"Iowa, North, 23.21\",\n",
    "\"Ohio, West, 34.11\", \"NY, South, 45.22\", \"Boston, East, 34.11\"]))"
   ]
  },
  {
   "cell_type": "code",
   "execution_count": 19,
   "id": "c94d278c",
   "metadata": {},
   "outputs": [
    {
     "data": {
      "text/plain": [
       "DataFrame[state: string, location: string, sell_price: double]"
      ]
     },
     "execution_count": 19,
     "metadata": {},
     "output_type": "execute_result"
    }
   ],
   "source": [
    "df = spark.createDataFrame(data,header)\n",
    "df"
   ]
  }
 ],
 "metadata": {
  "kernelspec": {
   "display_name": "Python 3",
   "language": "python",
   "name": "python3"
  },
  "language_info": {
   "codemirror_mode": {
    "name": "ipython",
    "version": 3
   },
   "file_extension": ".py",
   "mimetype": "text/x-python",
   "name": "python",
   "nbconvert_exporter": "python",
   "pygments_lexer": "ipython3",
   "version": "3.8.8"
  }
 },
 "nbformat": 4,
 "nbformat_minor": 5
}
