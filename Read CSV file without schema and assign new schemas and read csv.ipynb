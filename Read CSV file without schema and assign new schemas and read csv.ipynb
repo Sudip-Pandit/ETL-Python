{
 "cells": [
  {
   "cell_type": "code",
   "execution_count": 1,
   "id": "f797a325",
   "metadata": {},
   "outputs": [],
   "source": [
    "import pyspark"
   ]
  },
  {
   "cell_type": "code",
   "execution_count": 2,
   "id": "2c792bab",
   "metadata": {},
   "outputs": [],
   "source": [
    "from pyspark.sql import SparkSession"
   ]
  },
  {
   "cell_type": "code",
   "execution_count": 3,
   "id": "63803826",
   "metadata": {},
   "outputs": [],
   "source": [
    "spark = SparkSession.builder.master(\"local\").appName(\"Demo\").getOrCreate()"
   ]
  },
  {
   "cell_type": "code",
   "execution_count": 6,
   "id": "19bf53f3",
   "metadata": {},
   "outputs": [
    {
     "name": "stdout",
     "output_type": "stream",
     "text": [
      "+---+--------+---+---+\n",
      "|_c0|     _c1|_c2|_c3|\n",
      "+---+--------+---+---+\n",
      "|  0|    Will| 33|385|\n",
      "|  1|Jean-Luc| 26|  2|\n",
      "|  2|    Hugh| 55|221|\n",
      "|  3|  Deanna| 40|465|\n",
      "|  4|   Quark| 68| 21|\n",
      "|  5|  Weyoun| 59|318|\n",
      "|  6|  Gowron| 37|220|\n",
      "|  7|    Will| 54|307|\n",
      "|  8|  Jadzia| 38|380|\n",
      "|  9|    Hugh| 27|181|\n",
      "| 10|     Odo| 53|191|\n",
      "+---+--------+---+---+\n",
      "\n"
     ]
    }
   ],
   "source": [
    "df_pyspark = spark.read.option(\"delimiter\",\",\").csv(\"fakefriends.csv\", header=False).show()"
   ]
  },
  {
   "cell_type": "code",
   "execution_count": 12,
   "id": "c7a6662b",
   "metadata": {},
   "outputs": [],
   "source": [
    "from pyspark.sql.types import StructField, IntegerType, StructType, StringType,LongType"
   ]
  },
  {
   "cell_type": "code",
   "execution_count": 15,
   "id": "af63c2e1",
   "metadata": {},
   "outputs": [],
   "source": [
    "schema = StructType([\n",
    "    StructField(\"Index\", IntegerType(), True),\n",
    "    StructField(\"Name\", StringType(), True),\n",
    "    StructField(\"Duration\", IntegerType(), True),\n",
    "    StructField(\"Days\", IntegerType(), True)])"
   ]
  },
  {
   "cell_type": "code",
   "execution_count": 20,
   "id": "b6bd9c20",
   "metadata": {},
   "outputs": [
    {
     "name": "stdout",
     "output_type": "stream",
     "text": [
      "+-----+--------+--------+----+\n",
      "|Index|    Name|Duration|Days|\n",
      "+-----+--------+--------+----+\n",
      "|    1|Jean-Luc|      26|   2|\n",
      "|    2|    Hugh|      55| 221|\n",
      "|    3|  Deanna|      40| 465|\n",
      "|    4|   Quark|      68|  21|\n",
      "|    5|  Weyoun|      59| 318|\n",
      "|    6|  Gowron|      37| 220|\n",
      "|    7|    Will|      54| 307|\n",
      "|    8|  Jadzia|      38| 380|\n",
      "|    9|    Hugh|      27| 181|\n",
      "|   10|     Odo|      53| 191|\n",
      "+-----+--------+--------+----+\n",
      "\n"
     ]
    }
   ],
   "source": [
    "df = spark.read.format(\"csv\") \\\n",
    "    .schema(schema) \\\n",
    "    .option(\"header\", True) \\\n",
    "    .load(\"fakefriends.csv\")\n",
    "df.show()"
   ]
  },
  {
   "cell_type": "code",
   "execution_count": null,
   "id": "b3599b8d",
   "metadata": {},
   "outputs": [],
   "source": []
  }
 ],
 "metadata": {
  "kernelspec": {
   "display_name": "Python 3",
   "language": "python",
   "name": "python3"
  },
  "language_info": {
   "codemirror_mode": {
    "name": "ipython",
    "version": 3
   },
   "file_extension": ".py",
   "mimetype": "text/x-python",
   "name": "python",
   "nbconvert_exporter": "python",
   "pygments_lexer": "ipython3",
   "version": "3.8.8"
  }
 },
 "nbformat": 4,
 "nbformat_minor": 5
}
