{
 "cells": [
  {
   "cell_type": "markdown",
   "id": "be1f20ad",
   "metadata": {},
   "source": [
    "# Sub-string in PySpark: -\n",
    "##### df.colname.substr() gets the substring of the column\n",
    "#####  df.colname.substr(start,length)\n"
   ]
  },
  {
   "cell_type": "code",
   "execution_count": 1,
   "id": "82a4dbf8",
   "metadata": {},
   "outputs": [],
   "source": [
    "import findspark\n",
    "findspark.init()\n",
    "import pyspark\n",
    "from pyspark.sql import SparkSession\n",
    "from pyspark import SparkContext, SparkConf\n",
    "conf = pyspark.SparkConf().setAppName(\"Typecast String to Date and Date to String\").setMaster(\"local\")\n",
    "from pyspark.sql import SQLContext\n",
    "sc = pyspark.SparkContext(conf=conf)\n",
    "spark = SparkSession(sc)\n",
    "sql_c = SQLContext(sc)"
   ]
  },
  {
   "cell_type": "code",
   "execution_count": 2,
   "id": "f794aed9",
   "metadata": {},
   "outputs": [],
   "source": [
    "df = sql_c.read.csv('transaction.csv', header=True)"
   ]
  },
  {
   "cell_type": "code",
   "execution_count": 3,
   "id": "1c82ba74",
   "metadata": {},
   "outputs": [
    {
     "data": {
      "text/plain": [
       "[Row(Date='21-Aug-20', Description='Reversal', Deposits='0', Withdrawls='10,612.64', Balance='53,063.19'),\n",
       " Row(Date='21-Aug-20', Description='Commission', Deposits='0', Withdrawls='26,531.60', Balance='26,531.60'),\n",
       " Row(Date='21-Aug-20', Description='Debit Card', Deposits='0', Withdrawls='8,843.87', Balance='17,687.73'),\n",
       " Row(Date='21-Aug-20', Description='Cash', Deposits='23,475.67', Withdrawls='0', Balance='41,163.40')]"
      ]
     },
     "execution_count": 3,
     "metadata": {},
     "output_type": "execute_result"
    }
   ],
   "source": [
    "df.head(4)"
   ]
  },
  {
   "cell_type": "code",
   "execution_count": 4,
   "id": "96725dd8",
   "metadata": {},
   "outputs": [
    {
     "data": {
      "text/plain": [
       "[Row(Date='21-Aug-20', Description='Reversal', Deposits='0', Withdrawls='10,612.64', Balance='53,063.19'),\n",
       " Row(Date='21-Aug-20', Description='Commission', Deposits='0', Withdrawls='26,531.60', Balance='26,531.60'),\n",
       " Row(Date='21-Aug-20', Description='Debit Card', Deposits='0', Withdrawls='8,843.87', Balance='17,687.73'),\n",
       " Row(Date='21-Aug-20', Description='Cash', Deposits='23,475.67', Withdrawls='0', Balance='41,163.40')]"
      ]
     },
     "execution_count": 4,
     "metadata": {},
     "output_type": "execute_result"
    }
   ],
   "source": [
    "df.take(4)"
   ]
  },
  {
   "cell_type": "code",
   "execution_count": 6,
   "id": "7a42d39d",
   "metadata": {},
   "outputs": [
    {
     "name": "stdout",
     "output_type": "stream",
     "text": [
      "+---------+-----------+---------+----------+---------+\n",
      "|     Date|Description| Deposits|Withdrawls|  Balance|\n",
      "+---------+-----------+---------+----------+---------+\n",
      "|21-Aug-20|   Reversal|        0| 10,612.64|53,063.19|\n",
      "|21-Aug-20| Commission|        0| 26,531.60|26,531.60|\n",
      "|21-Aug-20| Debit Card|        0|  8,843.87|17,687.73|\n",
      "|21-Aug-20|       Cash|23,475.67|         0|41,163.40|\n",
      "|21-Aug-20|   Interest|        0|  5,145.43|36,017.98|\n",
      "+---------+-----------+---------+----------+---------+\n",
      "only showing top 5 rows\n",
      "\n"
     ]
    }
   ],
   "source": [
    "df.show(5)"
   ]
  },
  {
   "cell_type": "code",
   "execution_count": 7,
   "id": "55b27659",
   "metadata": {},
   "outputs": [
    {
     "data": {
      "text/plain": [
       "[('Date', 'string')]"
      ]
     },
     "execution_count": 7,
     "metadata": {},
     "output_type": "execute_result"
    }
   ],
   "source": [
    "df.select(\"Date\").dtypes"
   ]
  },
  {
   "cell_type": "code",
   "execution_count": 15,
   "id": "c5c622d6",
   "metadata": {},
   "outputs": [],
   "source": [
    "from pyspark.sql.types import StringType"
   ]
  },
  {
   "cell_type": "code",
   "execution_count": 19,
   "id": "28900657",
   "metadata": {},
   "outputs": [
    {
     "name": "stdout",
     "output_type": "stream",
     "text": [
      "+---------+-----------+--------+----------+---------+-------------------+----------------------+\n",
      "|     Date|Description|Deposits|Withdrawls|  Balance|substring_statename|Sub-string_Description|\n",
      "+---------+-----------+--------+----------+---------+-------------------+----------------------+\n",
      "|21-Aug-20|   Reversal|       0| 10,612.64|53,063.19|              Rever|                 Rever|\n",
      "|21-Aug-20| Commission|       0| 26,531.60|26,531.60|              Commi|                 Commi|\n",
      "|21-Aug-20| Debit Card|       0|  8,843.87|17,687.73|              Debit|                 Debit|\n",
      "+---------+-----------+--------+----------+---------+-------------------+----------------------+\n",
      "only showing top 3 rows\n",
      "\n"
     ]
    }
   ],
   "source": [
    "df = df.withColumn(\"Sub-string_Description\", df.Description.substr(1,5))\n",
    "df.show(3)\n"
   ]
  },
  {
   "cell_type": "code",
   "execution_count": 20,
   "id": "ad11cd34",
   "metadata": {},
   "outputs": [],
   "source": [
    "# get substring from the end\n",
    "df = df.withColumn(\"sub_string_from_end\", df.Description.substr(-1,2))"
   ]
  },
  {
   "cell_type": "code",
   "execution_count": 21,
   "id": "ff901571",
   "metadata": {},
   "outputs": [
    {
     "name": "stdout",
     "output_type": "stream",
     "text": [
      "+---------+-----------+--------+----------+---------+-------------------+----------------------+-------------------+\n",
      "|     Date|Description|Deposits|Withdrawls|  Balance|substring_statename|Sub-string_Description|sub_string_from_end|\n",
      "+---------+-----------+--------+----------+---------+-------------------+----------------------+-------------------+\n",
      "|21-Aug-20|   Reversal|       0| 10,612.64|53,063.19|              Rever|                 Rever|                  l|\n",
      "|21-Aug-20| Commission|       0| 26,531.60|26,531.60|              Commi|                 Commi|                  n|\n",
      "|21-Aug-20| Debit Card|       0|  8,843.87|17,687.73|              Debit|                 Debit|                  d|\n",
      "+---------+-----------+--------+----------+---------+-------------------+----------------------+-------------------+\n",
      "only showing top 3 rows\n",
      "\n"
     ]
    }
   ],
   "source": [
    "df.show(3)"
   ]
  },
  {
   "cell_type": "code",
   "execution_count": null,
   "id": "6236477f",
   "metadata": {},
   "outputs": [],
   "source": []
  }
 ],
 "metadata": {
  "kernelspec": {
   "display_name": "Python 3",
   "language": "python",
   "name": "python3"
  },
  "language_info": {
   "codemirror_mode": {
    "name": "ipython",
    "version": 3
   },
   "file_extension": ".py",
   "mimetype": "text/x-python",
   "name": "python",
   "nbconvert_exporter": "python",
   "pygments_lexer": "ipython3",
   "version": "3.8.8"
  }
 },
 "nbformat": 4,
 "nbformat_minor": 5
}
