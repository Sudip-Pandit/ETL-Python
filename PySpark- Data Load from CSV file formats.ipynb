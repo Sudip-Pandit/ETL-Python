{
 "cells": [
  {
   "cell_type": "code",
   "execution_count": 17,
   "id": "9ceab804",
   "metadata": {},
   "outputs": [],
   "source": [
    "import pandas as pd \n",
    "import numpy as np\n",
    "import pyspark\n",
    "from pyspark.sql import SparkSession"
   ]
  },
  {
   "cell_type": "code",
   "execution_count": 18,
   "id": "3a218b04",
   "metadata": {},
   "outputs": [],
   "source": [
    "spark = SparkSession.builder.master(\"local[*]\").appName(\"ProjectOnTransaction_datasets\").getOrCreate()"
   ]
  },
  {
   "cell_type": "code",
   "execution_count": 30,
   "id": "fee37916",
   "metadata": {},
   "outputs": [],
   "source": [
    "df2 = spark.read.format(\"csv\")\\\n",
    "    .option('header', True)\\\n",
    "    .option('multiline', True)\\\n",
    "    .load(\"C:\\\\Users\\\\Sudip\\Desktop\\\\transaction_data.csv\")"
   ]
  },
  {
   "cell_type": "code",
   "execution_count": 31,
   "id": "106c779c",
   "metadata": {},
   "outputs": [
    {
     "name": "stdout",
     "output_type": "stream",
     "text": [
      "+---------+-------------+----------+----------+----------+\n",
      "|     Date|  Description|  Deposits|Withdrawls|   Balance|\n",
      "+---------+-------------+----------+----------+----------+\n",
      "|21-Aug-20|     Reversal|         0| 10,612.64| 53,063.19|\n",
      "|21-Aug-20|   Commission|         0| 26,531.60| 26,531.60|\n",
      "|21-Aug-20|   Debit Card|         0|  8,843.87| 17,687.73|\n",
      "|21-Aug-20|         Cash| 23,475.67|         0| 41,163.40|\n",
      "|21-Aug-20|     Interest|         0|  5,145.43| 36,017.98|\n",
      "|21-Aug-20|         Bill|     11.52|         0| 36,029.50|\n",
      "|21-Aug-20|     Reversal|         0|  3,602.95| 32,426.55|\n",
      "|21-Aug-20|     Purchase|         0|  8,106.64| 24,319.91|\n",
      "|21-Aug-20|       Cheque|         0|  3,474.27| 20,845.64|\n",
      "|21-Aug-20|     Reversal|         0|  2,605.71| 18,239.93|\n",
      "|21-Aug-20|         IMPS|  8,991.00|         0| 27,230.93|\n",
      "|21-Aug-20|     Purchase| 28,308.10|         0| 55,539.03|\n",
      "|21-Aug-20|         IMPS|         0|  5,553.90| 49,985.13|\n",
      "|21-Aug-20|          ATM|248,522.30|         0|298,507.43|\n",
      "|21-Aug-20|Miscellaneous| 43,251.30|         0|341,758.73|\n",
      "|21-Aug-20|   Commission|    695.46|         0|342,454.19|\n",
      "|21-Aug-20|         IMPS|     442.5|         0|342,896.69|\n",
      "|21-Aug-20|          ATM|         0|114,298.90|228,597.79|\n",
      "|21-Aug-20|     Reversal| 15,720.00|         0|244,317.79|\n",
      "|21-Aug-20|         IMPS|         0| 40,719.63|203,598.16|\n",
      "+---------+-------------+----------+----------+----------+\n",
      "only showing top 20 rows\n",
      "\n"
     ]
    }
   ],
   "source": [
    "df2.show()"
   ]
  },
  {
   "cell_type": "code",
   "execution_count": 33,
   "id": "4c1ed1cd",
   "metadata": {},
   "outputs": [
    {
     "data": {
      "text/plain": [
       "[Row(Date='21-Aug-20', Description='Reversal', Deposits='0', Withdrawls='10,612.64', Balance='53,063.19'),\n",
       " Row(Date='21-Aug-20', Description='Commission', Deposits='0', Withdrawls='26,531.60', Balance='26,531.60'),\n",
       " Row(Date='21-Aug-20', Description='Debit Card', Deposits='0', Withdrawls='8,843.87', Balance='17,687.73'),\n",
       " Row(Date='21-Aug-20', Description='Cash', Deposits='23,475.67', Withdrawls='0', Balance='41,163.40'),\n",
       " Row(Date='21-Aug-20', Description='Interest', Deposits='0', Withdrawls='5,145.43', Balance='36,017.98')]"
      ]
     },
     "execution_count": 33,
     "metadata": {},
     "output_type": "execute_result"
    }
   ],
   "source": [
    "df2.take(5)"
   ]
  },
  {
   "cell_type": "code",
   "execution_count": 34,
   "id": "24534264",
   "metadata": {},
   "outputs": [
    {
     "name": "stdout",
     "output_type": "stream",
     "text": [
      "Record count is: 1048575\n"
     ]
    }
   ],
   "source": [
    "# count records in datasets\n",
    "print(f'Record count is: {df2.count()}')"
   ]
  }
 ],
 "metadata": {
  "kernelspec": {
   "display_name": "Python 3",
   "language": "python",
   "name": "python3"
  },
  "language_info": {
   "codemirror_mode": {
    "name": "ipython",
    "version": 3
   },
   "file_extension": ".py",
   "mimetype": "text/x-python",
   "name": "python",
   "nbconvert_exporter": "python",
   "pygments_lexer": "ipython3",
   "version": "3.8.8"
  }
 },
 "nbformat": 4,
 "nbformat_minor": 5
}
