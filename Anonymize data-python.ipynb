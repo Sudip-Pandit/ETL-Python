{
 "cells": [
  {
   "cell_type": "code",
   "execution_count": 1,
   "id": "2481b799",
   "metadata": {},
   "outputs": [],
   "source": [
    "#import package\n",
    "import scrubadub"
   ]
  },
  {
   "cell_type": "code",
   "execution_count": 2,
   "id": "d719ab3d",
   "metadata": {},
   "outputs": [],
   "source": [
    "ex = \"My name is Sudip. I live in Ohio, my email is sudip@gmail.com\""
   ]
  },
  {
   "cell_type": "code",
   "execution_count": 3,
   "id": "7484b228",
   "metadata": {},
   "outputs": [
    {
     "data": {
      "text/plain": [
       "['Scrubber',\n",
       " 'VERSION',\n",
       " '__builtins__',\n",
       " '__cached__',\n",
       " '__doc__',\n",
       " '__file__',\n",
       " '__loader__',\n",
       " '__name__',\n",
       " '__package__',\n",
       " '__path__',\n",
       " '__spec__',\n",
       " '__version__',\n",
       " 'clean',\n",
       " 'detectors',\n",
       " 'exceptions',\n",
       " 'filth',\n",
       " 'import_magic',\n",
       " 'scrubbers',\n",
       " 'utils']"
      ]
     },
     "execution_count": 3,
     "metadata": {},
     "output_type": "execute_result"
    }
   ],
   "source": [
    "dir(scrubadub)"
   ]
  },
  {
   "cell_type": "code",
   "execution_count": 5,
   "id": "2b4a81b1",
   "metadata": {},
   "outputs": [
    {
     "name": "stderr",
     "output_type": "stream",
     "text": [
      "[nltk_data] Downloading package punkt to\n",
      "[nltk_data]     C:\\Users\\Sudip\\AppData\\Roaming\\nltk_data...\n",
      "[nltk_data]   Unzipping tokenizers\\punkt.zip.\n"
     ]
    },
    {
     "data": {
      "text/plain": [
       "'My name is {{NAME}}. I live in {{NAME}}, my email is {{EMAIL}}'"
      ]
     },
     "execution_count": 5,
     "metadata": {},
     "output_type": "execute_result"
    }
   ],
   "source": [
    "# Redact/Anonymize Identifiers by default\n",
    "import nltk\n",
    "nltk.download('punkt')\n",
    "scrubadub.clean(ex)"
   ]
  },
  {
   "cell_type": "code",
   "execution_count": 6,
   "id": "d6512f3d",
   "metadata": {},
   "outputs": [
    {
     "data": {
      "text/plain": [
       "'My name is {{NAME-0}}. I live in {{NAME-1}}, my email is {{EMAIL-2}}'"
      ]
     },
     "execution_count": 6,
     "metadata": {},
     "output_type": "execute_result"
    }
   ],
   "source": [
    "# replace name with {{NAME-ID}} anonymous, but consistent IDs\n",
    "scrubadub.clean(ex,replace_with='identifier')"
   ]
  },
  {
   "cell_type": "code",
   "execution_count": 7,
   "id": "85f1643b",
   "metadata": {},
   "outputs": [],
   "source": [
    "scrubber = scrubadub.Scrubber()\n",
    "scrubber.remove_detector('email')\n"
   ]
  },
  {
   "cell_type": "code",
   "execution_count": 8,
   "id": "e73844f8",
   "metadata": {},
   "outputs": [
    {
     "data": {
      "text/plain": [
       "'My name is {{NAME}}. I live in {{NAME}}, my email is sudip@gmail.com'"
      ]
     },
     "execution_count": 8,
     "metadata": {},
     "output_type": "execute_result"
    }
   ],
   "source": [
    "# Clean everything\n",
    "scrubber.clean(ex)"
   ]
  }
 ],
 "metadata": {
  "kernelspec": {
   "display_name": "Python 3",
   "language": "python",
   "name": "python3"
  },
  "language_info": {
   "codemirror_mode": {
    "name": "ipython",
    "version": 3
   },
   "file_extension": ".py",
   "mimetype": "text/x-python",
   "name": "python",
   "nbconvert_exporter": "python",
   "pygments_lexer": "ipython3",
   "version": "3.8.8"
  }
 },
 "nbformat": 4,
 "nbformat_minor": 5
}
